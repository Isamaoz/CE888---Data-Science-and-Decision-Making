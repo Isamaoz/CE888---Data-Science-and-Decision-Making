{
  "nbformat": 4,
  "nbformat_minor": 0,
  "metadata": {
    "colab": {
      "name": "OXO_Game.ipynb",
      "provenance": [],
      "collapsed_sections": [],
      "toc_visible": true,
      "authorship_tag": "ABX9TyPSIQIDxI9/0uByDZsX2ywi",
      "include_colab_link": true
    },
    "kernelspec": {
      "name": "python3",
      "display_name": "Python 3"
    },
    "accelerator": "GPU"
  },
  "cells": [
    {
      "cell_type": "markdown",
      "metadata": {
        "id": "view-in-github",
        "colab_type": "text"
      },
      "source": [
        "<a href=\"https://colab.research.google.com/github/Isamaoz/CE888---Data-Science-and-Decision-Making/blob/master/Assignment/OXO_Game_10.ipynb\" target=\"_parent\"><img src=\"https://colab.research.google.com/assets/colab-badge.svg\" alt=\"Open In Colab\"/></a>"
      ]
    },
    {
      "cell_type": "markdown",
      "metadata": {
        "id": "cOAuMjAPqDCu",
        "colab_type": "text"
      },
      "source": [
        "# First collection of data"
      ]
    },
    {
      "cell_type": "markdown",
      "metadata": {
        "id": "4YgKl4OhqiPm",
        "colab_type": "text"
      },
      "source": [
        "This part uses the code given by the lecturers, it records the data from 500 games with itermax = 1000 for the first player and itermax = 100 for the second player"
      ]
    },
    {
      "cell_type": "code",
      "metadata": {
        "id": "2ITMkbWXPHcy",
        "colab_type": "code",
        "outputId": "01cfecec-62b9-412e-9c3f-562ee44b7033",
        "colab": {
          "base_uri": "https://localhost:8080/",
          "height": 47
        }
      },
      "source": [
        "import pandas as pd\n",
        "df = pd.DataFrame(columns=['Game No.','Past_Player','New_Player','Move_NP'])\n",
        "df.head()"
      ],
      "execution_count": 14,
      "outputs": [
        {
          "output_type": "execute_result",
          "data": {
            "text/html": [
              "<div>\n",
              "<style scoped>\n",
              "    .dataframe tbody tr th:only-of-type {\n",
              "        vertical-align: middle;\n",
              "    }\n",
              "\n",
              "    .dataframe tbody tr th {\n",
              "        vertical-align: top;\n",
              "    }\n",
              "\n",
              "    .dataframe thead th {\n",
              "        text-align: right;\n",
              "    }\n",
              "</style>\n",
              "<table border=\"1\" class=\"dataframe\">\n",
              "  <thead>\n",
              "    <tr style=\"text-align: right;\">\n",
              "      <th></th>\n",
              "      <th>Game No.</th>\n",
              "      <th>Past_Player</th>\n",
              "      <th>New_Player</th>\n",
              "      <th>Move_NP</th>\n",
              "    </tr>\n",
              "  </thead>\n",
              "  <tbody>\n",
              "  </tbody>\n",
              "</table>\n",
              "</div>"
            ],
            "text/plain": [
              "Empty DataFrame\n",
              "Columns: [Game No., Past_Player, New_Player, Move_NP]\n",
              "Index: []"
            ]
          },
          "metadata": {
            "tags": []
          },
          "execution_count": 14
        }
      ]
    },
    {
      "cell_type": "code",
      "metadata": {
        "id": "HEej3hWUGp6w",
        "colab_type": "code",
        "outputId": "1509f375-9a87-4e32-f4af-481228e28bda",
        "colab": {
          "base_uri": "https://localhost:8080/",
          "height": 67
        }
      },
      "source": [
        "# This is a very simple implementation of the UCT Monte Carlo Tree Search algorithm in Python 2.7.\n",
        "# The function UCT(rootstate, itermax, verbose = False) is towards the bottom of the code.\n",
        "# It aims to have the clearest and simplest possible code, and for the sake of clarity, the code\n",
        "# is orders of magnitude less efficient than it could be made, particularly by using a \n",
        "# state.GetRandomMove() or state.DoRandomRollout() function.\n",
        "# \n",
        "# Example GameState classes for Nim, OXO and Othello are included to give some idea of how you\n",
        "# can write your own GameState use UCT in your 2-player game. Change the game to be played in \n",
        "# the UCTPlayGame() function at the bottom of the code.\n",
        "# \n",
        "# Written by Peter Cowling, Ed Powley, Daniel Whitehouse (University of York, UK) September 2012.\n",
        "# \n",
        "# Licence is granted to freely use and distribute for any sensible/legal purpose so long as this comment\n",
        "# remains in any distributed code.\n",
        "# \n",
        "# For more information about Monte Carlo Tree Search check out our web site at www.mcts.ai\n",
        "\n",
        "from math import *\n",
        "import random\n",
        "\n",
        "class GameState:\n",
        "    \"\"\" A state of the game, i.e. the game board. These are the only functions which are\n",
        "        absolutely necessary to implement UCT in any 2-player complete information deterministic \n",
        "        zero-sum game, although they can be enhanced and made quicker, for example by using a \n",
        "        GetRandomMove() function to generate a random move during rollout.\n",
        "        By convention the players are numbered 1 and 2.\n",
        "    \"\"\"\n",
        "    def __init__(self):\n",
        "            self.playerJustMoved = 2 # At the root pretend the player just moved is player 2 - player 1 has the first move\n",
        "        \n",
        "    def Clone(self):\n",
        "        \"\"\" Create a deep clone of this game state.\n",
        "        \"\"\"\n",
        "        st = GameState()\n",
        "        st.playerJustMoved = self.playerJustMoved\n",
        "        return st\n",
        "\n",
        "    def DoMove(self, move):\n",
        "        \"\"\" Update a state by carrying out the given move.\n",
        "            Must update playerJustMoved.\n",
        "        \"\"\"\n",
        "        self.playerJustMoved = 3 - self.playerJustMoved\n",
        "        \n",
        "    def GetMoves(self):\n",
        "        \"\"\" Get all possible moves from this state.\n",
        "        \"\"\"\n",
        "    \n",
        "    def GetResult(self, playerjm):\n",
        "        \"\"\" Get the game result from the viewpoint of playerjm. \n",
        "        \"\"\"\n",
        "\n",
        "    def __repr__(self):\n",
        "        \"\"\" Don't need this - but good style.\n",
        "        \"\"\"\n",
        "        pass\n",
        "\n",
        "\n",
        "class OXOState:\n",
        "    \"\"\" A state of the game, i.e. the game board.\n",
        "        Squares in the board are in this arrangement\n",
        "        012\n",
        "        345\n",
        "        678\n",
        "        where 0 = empty, 1 = player 1 (X), 2 = player 2 (O)\n",
        "    \"\"\"\n",
        "    def __init__(self):\n",
        "        self.playerJustMoved = 2 # At the root pretend the player just moved is p2 - p1 has the first move\n",
        "        self.board = [0,0,0,0,0,0,0,0,0] # 0 = empty, 1 = player 1, 2 = player 2\n",
        "        \n",
        "    def Clone(self):\n",
        "        \"\"\" Create a deep clone of this game state.\n",
        "        \"\"\"\n",
        "        st = OXOState()\n",
        "        st.playerJustMoved = self.playerJustMoved\n",
        "        st.board = self.board[:]\n",
        "        return st\n",
        "\n",
        "    def DoMove(self, move):\n",
        "        \"\"\" Update a state by carrying out the given move.\n",
        "            Must update playerToMove.\n",
        "        \"\"\"\n",
        "        assert move >= 0 and move <= 8 and move == int(move) and self.board[move] == 0\n",
        "        self.playerJustMoved = 3 - self.playerJustMoved\n",
        "        self.board[move] = self.playerJustMoved\n",
        "        \n",
        "    def GetMoves(self):\n",
        "        \"\"\" Get all possible moves from this state.\n",
        "        \"\"\"\n",
        "        return [i for i in range(9) if self.board[i] == 0]\n",
        "    \n",
        "    def GetResult(self, playerjm):\n",
        "        \"\"\" Get the game result from the viewpoint of playerjm. \n",
        "        \"\"\"\n",
        "        for (x,y,z) in [(0,1,2),(3,4,5),(6,7,8),(0,3,6),(1,4,7),(2,5,8),(0,4,8),(2,4,6)]:\n",
        "            if self.board[x] == self.board[y] == self.board[z]:\n",
        "                if self.board[x] == playerjm:\n",
        "                    return 1.0\n",
        "                else:\n",
        "                    return 0.0\n",
        "        if self.GetMoves() == []: return 0.5 # draw\n",
        "        return False # Should not be possible to get here\n",
        "\n",
        "    def __repr__(self):\n",
        "        s= \"\"\n",
        "        for i in range(9): \n",
        "            s += \".XO\"[self.board[i]]\n",
        "            if i % 3 == 2: s += \"\\n\"\n",
        "        return s\n",
        "\n",
        "\n",
        "class Node:\n",
        "    \"\"\" A node in the game tree. Note wins is always from the viewpoint of playerJustMoved.\n",
        "        Crashes if state not specified.\n",
        "    \"\"\"\n",
        "    def __init__(self, move = None, parent = None, state = None):\n",
        "        self.move = move # the move that got us to this node - \"None\" for the root node\n",
        "        self.parentNode = parent # \"None\" for the root node\n",
        "        self.childNodes = []\n",
        "        self.wins = 0\n",
        "        self.visits = 0\n",
        "        self.untriedMoves = state.GetMoves() # future child nodes\n",
        "        self.playerJustMoved = state.playerJustMoved # the only part of the state that the Node needs later\n",
        "        \n",
        "    def UCTSelectChild(self):\n",
        "        \"\"\" Use the UCB1 formula to select a child node. Often a constant UCTK is applied so we have\n",
        "            lambda c: c.wins/c.visits + UCTK * sqrt(2*log(self.visits)/c.visits to vary the amount of\n",
        "            exploration versus exploitation.\n",
        "        \"\"\"\n",
        "        s = sorted(self.childNodes, key = lambda c: c.wins/c.visits + sqrt(2*log(self.visits)/c.visits))[-1]\n",
        "        return s\n",
        "    \n",
        "    def AddChild(self, m, s):\n",
        "        \"\"\" Remove m from untriedMoves and add a new child node for this move.\n",
        "            Return the added child node\n",
        "        \"\"\"\n",
        "        n = Node(move = m, parent = self, state = s)\n",
        "        self.untriedMoves.remove(m)\n",
        "        self.childNodes.append(n)\n",
        "        return n\n",
        "    \n",
        "    def Update(self, result):\n",
        "        \"\"\" Update this node - one additional visit and result additional wins. result must be from the viewpoint of playerJustmoved.\n",
        "        \"\"\"\n",
        "        self.visits += 1\n",
        "        self.wins += result\n",
        "\n",
        "    def __repr__(self):\n",
        "        return \"[M:\" + str(self.move) + \" W/V:\" + str(self.wins) + \"/\" + str(self.visits) + \" U:\" + str(self.untriedMoves) + \"]\"\n",
        "\n",
        "    def TreeToString(self, indent):\n",
        "        s = self.IndentString(indent) + str(self)\n",
        "        for c in self.childNodes:\n",
        "             s += c.TreeToString(indent+1)\n",
        "        return s\n",
        "\n",
        "    def IndentString(self,indent):\n",
        "        s = \"\\n\"\n",
        "        for i in range (1,indent+1):\n",
        "            s += \"| \"\n",
        "        return s\n",
        "\n",
        "    def ChildrenToString(self):\n",
        "        s = \"\"\n",
        "        for c in self.childNodes:\n",
        "             s += str(c) + \"\\n\"\n",
        "        return s\n",
        "\n",
        "\n",
        "def UCT(rootstate, itermax, verbose = False):\n",
        "    \"\"\" Conduct a UCT search for itermax iterations starting from rootstate.\n",
        "        Return the best move from the rootstate.\n",
        "        Assumes 2 alternating players (player 1 starts), with game results in the range [0.0, 1.0].\"\"\"\n",
        "\n",
        "    rootnode = Node(state = rootstate)\n",
        "\n",
        "    for i in range(itermax):\n",
        "        node = rootnode\n",
        "        state = rootstate.Clone()\n",
        "\n",
        "        # Select\n",
        "        while node.untriedMoves == [] and node.childNodes != []: # node is fully expanded and non-terminal\n",
        "            node = node.UCTSelectChild()\n",
        "            state.DoMove(node.move)\n",
        "\n",
        "        # Expand\n",
        "        if node.untriedMoves != []:  # if we can expand (i.e. state/node is non-terminal)\n",
        "            m = random.choice(node.untriedMoves) \n",
        "            state.DoMove(m)\n",
        "            node = node.AddChild(m, state)  # add child and descend tree\n",
        "\n",
        "        # Rollout - this can often be made orders of magnitude quicker using a state.GetRandomMove() function\n",
        "        while state.GetMoves() != []: # while state is non-terminal\n",
        "            state.DoMove(random.choice(state.GetMoves()))\n",
        "\n",
        "        # Backpropagate\n",
        "        while node != None: # backpropagate from the expanded node and work back to the root node\n",
        "            node.Update(state.GetResult(node.playerJustMoved)) # state is terminal. Update node with result from POV of node.playerJustMoved\n",
        "            node = node.parentNode\n",
        "\n",
        "    # Output some information about the tree - can be omitted\n",
        "    #if verbose: print(rootnode.TreeToString(0))\n",
        "    #else: print(rootnode.ChildrenToString())\n",
        "\n",
        "    return sorted(rootnode.childNodes, key = lambda c: c.visits)[-1].move # return the move that was most visited\n",
        "                \n",
        "def UCTPlayGame(x, counter):\n",
        "    \"\"\" Play a sample game between two UCT players where each player gets a different number \n",
        "        of UCT iterations (= simulations = tree nodes).\n",
        "    \"\"\"\n",
        "    state = OXOState() # uncomment to play OXO\n",
        "    while state.GetMoves() != []:\n",
        "        #print(str(state))\n",
        "        for i in range (9):\n",
        "          df.loc[counter,i] = state.board[i]  \n",
        "        if state.playerJustMoved == 1:\n",
        "            m = UCT(rootstate=state, itermax=1000, verbose=False)  # play with values for itermax and verbose = True\n",
        "        else:\n",
        "            m = UCT(rootstate=state, itermax=100, verbose=False)\n",
        "        #print(\"Best Move: \" + str(m) + \"\\n\")\n",
        "        df.loc[counter,'Move_NP'] = m                                 #Prints the best move\n",
        "        df.loc[counter,'Past_Player'] = state.playerJustMoved         #Prints the player that made the last move\n",
        "        df.loc[counter,'New_Player'] = 3 - state.playerJustMoved      #Prints the player thai is about to play the 'best move'\n",
        "        df.loc[counter,'Game No.'] = x + 1                            #Pints the numer of game\n",
        "        counter += 1\n",
        "        #print(\"Game no. \", x)\n",
        "        state.DoMove(m)\n",
        "        if state.GetResult(state.playerJustMoved) != False:\n",
        "            #print(str(state))\n",
        "            break\n",
        "    if state.GetResult(state.playerJustMoved) == 1.0:\n",
        "        flag = state.playerJustMoved\n",
        "        #print(\"Player \" + str(state.playerJustMoved) + \" wins!\")\n",
        "    elif state.GetResult(state.playerJustMoved) == 0.0:\n",
        "        #print(\"Player \" + str(3 - state.playerJustMoved) + \" wins!\")\n",
        "        flag = 3 - state.playerJustMoved\n",
        "    else: \n",
        "        #print(\"Nobody wins!\")\n",
        "        flag = 0\n",
        "    return counter, flag\n",
        "if __name__ == \"__main__\":\n",
        "    \"\"\" Play a single game to the end using UCT for both players. \n",
        "    \"\"\"\n",
        "    p1_wins = 0\n",
        "    p2_wins = 0\n",
        "    no_wins = 0\n",
        "    counter = 0\n",
        "    for x in range(500):\n",
        "        new_row, flag = UCTPlayGame(x,counter)\n",
        "        if (flag == 1):\n",
        "          p1_wins = p1_wins + 1\n",
        "        elif(flag == 2):\n",
        "          p2_wins = p2_wins + 1\n",
        "        elif (flag == 0):\n",
        "          no_wins = no_wins + 1\n",
        "        counter = new_row\n",
        "    print(\"Player 1 won\", p1_wins, \"times\")\n",
        "    print(\"Player 2 won\", p2_wins, \"times\")\n",
        "    print(\"Number of draws:\", no_wins)"
      ],
      "execution_count": 15,
      "outputs": [
        {
          "output_type": "stream",
          "text": [
            "Player 1 won 34 times\n",
            "Player 2 won 30 times\n",
            "Number of draws: 436\n"
          ],
          "name": "stdout"
        }
      ]
    },
    {
      "cell_type": "code",
      "metadata": {
        "id": "bGLIymAULsrx",
        "colab_type": "code",
        "outputId": "d3b4a2d8-32ee-4a7e-f37c-2413f0ba750d",
        "colab": {
          "base_uri": "https://localhost:8080/",
          "height": 402
        }
      },
      "source": [
        "df"
      ],
      "execution_count": 16,
      "outputs": [
        {
          "output_type": "execute_result",
          "data": {
            "text/html": [
              "<div>\n",
              "<style scoped>\n",
              "    .dataframe tbody tr th:only-of-type {\n",
              "        vertical-align: middle;\n",
              "    }\n",
              "\n",
              "    .dataframe tbody tr th {\n",
              "        vertical-align: top;\n",
              "    }\n",
              "\n",
              "    .dataframe thead th {\n",
              "        text-align: right;\n",
              "    }\n",
              "</style>\n",
              "<table border=\"1\" class=\"dataframe\">\n",
              "  <thead>\n",
              "    <tr style=\"text-align: right;\">\n",
              "      <th></th>\n",
              "      <th>Game No.</th>\n",
              "      <th>Past_Player</th>\n",
              "      <th>New_Player</th>\n",
              "      <th>Move_NP</th>\n",
              "      <th>0</th>\n",
              "      <th>1</th>\n",
              "      <th>2</th>\n",
              "      <th>3</th>\n",
              "      <th>4</th>\n",
              "      <th>5</th>\n",
              "      <th>6</th>\n",
              "      <th>7</th>\n",
              "      <th>8</th>\n",
              "    </tr>\n",
              "  </thead>\n",
              "  <tbody>\n",
              "    <tr>\n",
              "      <th>0</th>\n",
              "      <td>1</td>\n",
              "      <td>2</td>\n",
              "      <td>1</td>\n",
              "      <td>0</td>\n",
              "      <td>0.0</td>\n",
              "      <td>0.0</td>\n",
              "      <td>0.0</td>\n",
              "      <td>0.0</td>\n",
              "      <td>0.0</td>\n",
              "      <td>0.0</td>\n",
              "      <td>0.0</td>\n",
              "      <td>0.0</td>\n",
              "      <td>0.0</td>\n",
              "    </tr>\n",
              "    <tr>\n",
              "      <th>1</th>\n",
              "      <td>1</td>\n",
              "      <td>1</td>\n",
              "      <td>2</td>\n",
              "      <td>4</td>\n",
              "      <td>1.0</td>\n",
              "      <td>0.0</td>\n",
              "      <td>0.0</td>\n",
              "      <td>0.0</td>\n",
              "      <td>0.0</td>\n",
              "      <td>0.0</td>\n",
              "      <td>0.0</td>\n",
              "      <td>0.0</td>\n",
              "      <td>0.0</td>\n",
              "    </tr>\n",
              "    <tr>\n",
              "      <th>2</th>\n",
              "      <td>1</td>\n",
              "      <td>2</td>\n",
              "      <td>1</td>\n",
              "      <td>8</td>\n",
              "      <td>1.0</td>\n",
              "      <td>0.0</td>\n",
              "      <td>0.0</td>\n",
              "      <td>0.0</td>\n",
              "      <td>2.0</td>\n",
              "      <td>0.0</td>\n",
              "      <td>0.0</td>\n",
              "      <td>0.0</td>\n",
              "      <td>0.0</td>\n",
              "    </tr>\n",
              "    <tr>\n",
              "      <th>3</th>\n",
              "      <td>1</td>\n",
              "      <td>1</td>\n",
              "      <td>2</td>\n",
              "      <td>1</td>\n",
              "      <td>1.0</td>\n",
              "      <td>0.0</td>\n",
              "      <td>0.0</td>\n",
              "      <td>0.0</td>\n",
              "      <td>2.0</td>\n",
              "      <td>0.0</td>\n",
              "      <td>0.0</td>\n",
              "      <td>0.0</td>\n",
              "      <td>1.0</td>\n",
              "    </tr>\n",
              "    <tr>\n",
              "      <th>4</th>\n",
              "      <td>1</td>\n",
              "      <td>2</td>\n",
              "      <td>1</td>\n",
              "      <td>7</td>\n",
              "      <td>1.0</td>\n",
              "      <td>2.0</td>\n",
              "      <td>0.0</td>\n",
              "      <td>0.0</td>\n",
              "      <td>2.0</td>\n",
              "      <td>0.0</td>\n",
              "      <td>0.0</td>\n",
              "      <td>0.0</td>\n",
              "      <td>1.0</td>\n",
              "    </tr>\n",
              "    <tr>\n",
              "      <th>...</th>\n",
              "      <td>...</td>\n",
              "      <td>...</td>\n",
              "      <td>...</td>\n",
              "      <td>...</td>\n",
              "      <td>...</td>\n",
              "      <td>...</td>\n",
              "      <td>...</td>\n",
              "      <td>...</td>\n",
              "      <td>...</td>\n",
              "      <td>...</td>\n",
              "      <td>...</td>\n",
              "      <td>...</td>\n",
              "      <td>...</td>\n",
              "    </tr>\n",
              "    <tr>\n",
              "      <th>4365</th>\n",
              "      <td>500</td>\n",
              "      <td>2</td>\n",
              "      <td>1</td>\n",
              "      <td>1</td>\n",
              "      <td>2.0</td>\n",
              "      <td>0.0</td>\n",
              "      <td>0.0</td>\n",
              "      <td>1.0</td>\n",
              "      <td>1.0</td>\n",
              "      <td>2.0</td>\n",
              "      <td>0.0</td>\n",
              "      <td>0.0</td>\n",
              "      <td>0.0</td>\n",
              "    </tr>\n",
              "    <tr>\n",
              "      <th>4366</th>\n",
              "      <td>500</td>\n",
              "      <td>1</td>\n",
              "      <td>2</td>\n",
              "      <td>7</td>\n",
              "      <td>2.0</td>\n",
              "      <td>1.0</td>\n",
              "      <td>0.0</td>\n",
              "      <td>1.0</td>\n",
              "      <td>1.0</td>\n",
              "      <td>2.0</td>\n",
              "      <td>0.0</td>\n",
              "      <td>0.0</td>\n",
              "      <td>0.0</td>\n",
              "    </tr>\n",
              "    <tr>\n",
              "      <th>4367</th>\n",
              "      <td>500</td>\n",
              "      <td>2</td>\n",
              "      <td>1</td>\n",
              "      <td>2</td>\n",
              "      <td>2.0</td>\n",
              "      <td>1.0</td>\n",
              "      <td>0.0</td>\n",
              "      <td>1.0</td>\n",
              "      <td>1.0</td>\n",
              "      <td>2.0</td>\n",
              "      <td>0.0</td>\n",
              "      <td>2.0</td>\n",
              "      <td>0.0</td>\n",
              "    </tr>\n",
              "    <tr>\n",
              "      <th>4368</th>\n",
              "      <td>500</td>\n",
              "      <td>1</td>\n",
              "      <td>2</td>\n",
              "      <td>6</td>\n",
              "      <td>2.0</td>\n",
              "      <td>1.0</td>\n",
              "      <td>1.0</td>\n",
              "      <td>1.0</td>\n",
              "      <td>1.0</td>\n",
              "      <td>2.0</td>\n",
              "      <td>0.0</td>\n",
              "      <td>2.0</td>\n",
              "      <td>0.0</td>\n",
              "    </tr>\n",
              "    <tr>\n",
              "      <th>4369</th>\n",
              "      <td>500</td>\n",
              "      <td>2</td>\n",
              "      <td>1</td>\n",
              "      <td>8</td>\n",
              "      <td>2.0</td>\n",
              "      <td>1.0</td>\n",
              "      <td>1.0</td>\n",
              "      <td>1.0</td>\n",
              "      <td>1.0</td>\n",
              "      <td>2.0</td>\n",
              "      <td>2.0</td>\n",
              "      <td>2.0</td>\n",
              "      <td>0.0</td>\n",
              "    </tr>\n",
              "  </tbody>\n",
              "</table>\n",
              "<p>4370 rows × 13 columns</p>\n",
              "</div>"
            ],
            "text/plain": [
              "     Game No. Past_Player New_Player Move_NP    0  ...    4    5    6    7    8\n",
              "0           1           2          1       0  0.0  ...  0.0  0.0  0.0  0.0  0.0\n",
              "1           1           1          2       4  1.0  ...  0.0  0.0  0.0  0.0  0.0\n",
              "2           1           2          1       8  1.0  ...  2.0  0.0  0.0  0.0  0.0\n",
              "3           1           1          2       1  1.0  ...  2.0  0.0  0.0  0.0  1.0\n",
              "4           1           2          1       7  1.0  ...  2.0  0.0  0.0  0.0  1.0\n",
              "...       ...         ...        ...     ...  ...  ...  ...  ...  ...  ...  ...\n",
              "4365      500           2          1       1  2.0  ...  1.0  2.0  0.0  0.0  0.0\n",
              "4366      500           1          2       7  2.0  ...  1.0  2.0  0.0  0.0  0.0\n",
              "4367      500           2          1       2  2.0  ...  1.0  2.0  0.0  2.0  0.0\n",
              "4368      500           1          2       6  2.0  ...  1.0  2.0  0.0  2.0  0.0\n",
              "4369      500           2          1       8  2.0  ...  1.0  2.0  2.0  2.0  0.0\n",
              "\n",
              "[4370 rows x 13 columns]"
            ]
          },
          "metadata": {
            "tags": []
          },
          "execution_count": 16
        }
      ]
    },
    {
      "cell_type": "code",
      "metadata": {
        "id": "Ls85tFjJPjZu",
        "colab_type": "code",
        "colab": {}
      },
      "source": [
        "import pandas as pd\n",
        "\n",
        "df.to_csv(r'OXO.csv',index = None, header=True)"
      ],
      "execution_count": 0,
      "outputs": []
    },
    {
      "cell_type": "code",
      "metadata": {
        "id": "BaiYM_lkRFBe",
        "colab_type": "code",
        "outputId": "608679eb-8e81-4e90-d29c-b30a61df7bf4",
        "colab": {
          "base_uri": "https://localhost:8080/",
          "height": 195
        }
      },
      "source": [
        "from sklearn import tree\n",
        "\n",
        "model = tree.DecisionTreeClassifier()\n",
        "inputs = df.drop(['Move_NP', 'Game No.', 'Past_Player', 'New_Player'], axis='columns')\n",
        "inputs.head()"
      ],
      "execution_count": 18,
      "outputs": [
        {
          "output_type": "execute_result",
          "data": {
            "text/html": [
              "<div>\n",
              "<style scoped>\n",
              "    .dataframe tbody tr th:only-of-type {\n",
              "        vertical-align: middle;\n",
              "    }\n",
              "\n",
              "    .dataframe tbody tr th {\n",
              "        vertical-align: top;\n",
              "    }\n",
              "\n",
              "    .dataframe thead th {\n",
              "        text-align: right;\n",
              "    }\n",
              "</style>\n",
              "<table border=\"1\" class=\"dataframe\">\n",
              "  <thead>\n",
              "    <tr style=\"text-align: right;\">\n",
              "      <th></th>\n",
              "      <th>0</th>\n",
              "      <th>1</th>\n",
              "      <th>2</th>\n",
              "      <th>3</th>\n",
              "      <th>4</th>\n",
              "      <th>5</th>\n",
              "      <th>6</th>\n",
              "      <th>7</th>\n",
              "      <th>8</th>\n",
              "    </tr>\n",
              "  </thead>\n",
              "  <tbody>\n",
              "    <tr>\n",
              "      <th>0</th>\n",
              "      <td>0.0</td>\n",
              "      <td>0.0</td>\n",
              "      <td>0.0</td>\n",
              "      <td>0.0</td>\n",
              "      <td>0.0</td>\n",
              "      <td>0.0</td>\n",
              "      <td>0.0</td>\n",
              "      <td>0.0</td>\n",
              "      <td>0.0</td>\n",
              "    </tr>\n",
              "    <tr>\n",
              "      <th>1</th>\n",
              "      <td>1.0</td>\n",
              "      <td>0.0</td>\n",
              "      <td>0.0</td>\n",
              "      <td>0.0</td>\n",
              "      <td>0.0</td>\n",
              "      <td>0.0</td>\n",
              "      <td>0.0</td>\n",
              "      <td>0.0</td>\n",
              "      <td>0.0</td>\n",
              "    </tr>\n",
              "    <tr>\n",
              "      <th>2</th>\n",
              "      <td>1.0</td>\n",
              "      <td>0.0</td>\n",
              "      <td>0.0</td>\n",
              "      <td>0.0</td>\n",
              "      <td>2.0</td>\n",
              "      <td>0.0</td>\n",
              "      <td>0.0</td>\n",
              "      <td>0.0</td>\n",
              "      <td>0.0</td>\n",
              "    </tr>\n",
              "    <tr>\n",
              "      <th>3</th>\n",
              "      <td>1.0</td>\n",
              "      <td>0.0</td>\n",
              "      <td>0.0</td>\n",
              "      <td>0.0</td>\n",
              "      <td>2.0</td>\n",
              "      <td>0.0</td>\n",
              "      <td>0.0</td>\n",
              "      <td>0.0</td>\n",
              "      <td>1.0</td>\n",
              "    </tr>\n",
              "    <tr>\n",
              "      <th>4</th>\n",
              "      <td>1.0</td>\n",
              "      <td>2.0</td>\n",
              "      <td>0.0</td>\n",
              "      <td>0.0</td>\n",
              "      <td>2.0</td>\n",
              "      <td>0.0</td>\n",
              "      <td>0.0</td>\n",
              "      <td>0.0</td>\n",
              "      <td>1.0</td>\n",
              "    </tr>\n",
              "  </tbody>\n",
              "</table>\n",
              "</div>"
            ],
            "text/plain": [
              "     0    1    2    3    4    5    6    7    8\n",
              "0  0.0  0.0  0.0  0.0  0.0  0.0  0.0  0.0  0.0\n",
              "1  1.0  0.0  0.0  0.0  0.0  0.0  0.0  0.0  0.0\n",
              "2  1.0  0.0  0.0  0.0  2.0  0.0  0.0  0.0  0.0\n",
              "3  1.0  0.0  0.0  0.0  2.0  0.0  0.0  0.0  1.0\n",
              "4  1.0  2.0  0.0  0.0  2.0  0.0  0.0  0.0  1.0"
            ]
          },
          "metadata": {
            "tags": []
          },
          "execution_count": 18
        }
      ]
    },
    {
      "cell_type": "code",
      "metadata": {
        "id": "nuI6FF5uYC-7",
        "colab_type": "code",
        "outputId": "4b95f6a8-fdfa-4276-e432-18306076b77d",
        "colab": {
          "base_uri": "https://localhost:8080/",
          "height": 34
        }
      },
      "source": [
        "type(inputs)"
      ],
      "execution_count": 19,
      "outputs": [
        {
          "output_type": "execute_result",
          "data": {
            "text/plain": [
              "pandas.core.frame.DataFrame"
            ]
          },
          "metadata": {
            "tags": []
          },
          "execution_count": 19
        }
      ]
    },
    {
      "cell_type": "code",
      "metadata": {
        "id": "QSf4Du8tbJ7M",
        "colab_type": "code",
        "outputId": "89317515-587b-4b03-eaec-b1b65c4c8c1f",
        "colab": {
          "base_uri": "https://localhost:8080/",
          "height": 67
        }
      },
      "source": [
        "df.columns"
      ],
      "execution_count": 20,
      "outputs": [
        {
          "output_type": "execute_result",
          "data": {
            "text/plain": [
              "Index(['Game No.', 'Past_Player', 'New_Player', 'Move_NP', 0, 1, 2, 3, 4, 5, 6,\n",
              "       7, 8],\n",
              "      dtype='object')"
            ]
          },
          "metadata": {
            "tags": []
          },
          "execution_count": 20
        }
      ]
    },
    {
      "cell_type": "code",
      "metadata": {
        "id": "hak3DLliYG92",
        "colab_type": "code",
        "outputId": "0408dcc1-9faa-47f1-8af1-8ba664bf986c",
        "colab": {
          "base_uri": "https://localhost:8080/",
          "height": 218
        }
      },
      "source": [
        "target = df['Move_NP']\n",
        "target=target.astype('int')\n",
        "target"
      ],
      "execution_count": 21,
      "outputs": [
        {
          "output_type": "execute_result",
          "data": {
            "text/plain": [
              "0       0\n",
              "1       4\n",
              "2       8\n",
              "3       1\n",
              "4       7\n",
              "       ..\n",
              "4365    1\n",
              "4366    7\n",
              "4367    2\n",
              "4368    6\n",
              "4369    8\n",
              "Name: Move_NP, Length: 4370, dtype: int64"
            ]
          },
          "metadata": {
            "tags": []
          },
          "execution_count": 21
        }
      ]
    },
    {
      "cell_type": "code",
      "metadata": {
        "id": "FDHDzjILXsFj",
        "colab_type": "code",
        "outputId": "47dd37e2-f97e-44b1-b35d-14b380929ec6",
        "colab": {
          "base_uri": "https://localhost:8080/",
          "height": 118
        }
      },
      "source": [
        "model.fit(inputs, target)"
      ],
      "execution_count": 22,
      "outputs": [
        {
          "output_type": "execute_result",
          "data": {
            "text/plain": [
              "DecisionTreeClassifier(ccp_alpha=0.0, class_weight=None, criterion='gini',\n",
              "                       max_depth=None, max_features=None, max_leaf_nodes=None,\n",
              "                       min_impurity_decrease=0.0, min_impurity_split=None,\n",
              "                       min_samples_leaf=1, min_samples_split=2,\n",
              "                       min_weight_fraction_leaf=0.0, presort='deprecated',\n",
              "                       random_state=None, splitter='best')"
            ]
          },
          "metadata": {
            "tags": []
          },
          "execution_count": 22
        }
      ]
    },
    {
      "cell_type": "markdown",
      "metadata": {
        "id": "IZ-xsMKPq2jA",
        "colab_type": "text"
      },
      "source": [
        "#Second data recording"
      ]
    },
    {
      "cell_type": "markdown",
      "metadata": {
        "id": "jQjZqov7p0T8",
        "colab_type": "text"
      },
      "source": [
        "Create new dataframe for new data"
      ]
    },
    {
      "cell_type": "code",
      "metadata": {
        "id": "WfHaljxzpzcY",
        "colab_type": "code",
        "outputId": "00e95bb2-6be3-4298-bea6-2bd2a6127960",
        "colab": {
          "base_uri": "https://localhost:8080/",
          "height": 47
        }
      },
      "source": [
        "df2 = pd.DataFrame(columns=['Game No.','Past_Player','New_Player','Move_NP'])\n",
        "df2.head()"
      ],
      "execution_count": 23,
      "outputs": [
        {
          "output_type": "execute_result",
          "data": {
            "text/html": [
              "<div>\n",
              "<style scoped>\n",
              "    .dataframe tbody tr th:only-of-type {\n",
              "        vertical-align: middle;\n",
              "    }\n",
              "\n",
              "    .dataframe tbody tr th {\n",
              "        vertical-align: top;\n",
              "    }\n",
              "\n",
              "    .dataframe thead th {\n",
              "        text-align: right;\n",
              "    }\n",
              "</style>\n",
              "<table border=\"1\" class=\"dataframe\">\n",
              "  <thead>\n",
              "    <tr style=\"text-align: right;\">\n",
              "      <th></th>\n",
              "      <th>Game No.</th>\n",
              "      <th>Past_Player</th>\n",
              "      <th>New_Player</th>\n",
              "      <th>Move_NP</th>\n",
              "    </tr>\n",
              "  </thead>\n",
              "  <tbody>\n",
              "  </tbody>\n",
              "</table>\n",
              "</div>"
            ],
            "text/plain": [
              "Empty DataFrame\n",
              "Columns: [Game No., Past_Player, New_Player, Move_NP]\n",
              "Index: []"
            ]
          },
          "metadata": {
            "tags": []
          },
          "execution_count": 23
        }
      ]
    },
    {
      "cell_type": "markdown",
      "metadata": {
        "id": "oi0PakiWb1fD",
        "colab_type": "text"
      },
      "source": [
        "Change definition of Rollout to use the Decision Tree"
      ]
    },
    {
      "cell_type": "code",
      "metadata": {
        "id": "uVDD8Gs3cDOp",
        "colab_type": "code",
        "outputId": "8fe3abb1-6e3b-4d7f-c258-7e002dd5d8c8",
        "colab": {
          "base_uri": "https://localhost:8080/",
          "height": 67
        }
      },
      "source": [
        "import numpy as np\n",
        "\n",
        "def UCT(selector, rootstate, itermax, verbose = False):\n",
        "    \"\"\" Conduct a UCT search for itermax iterations starting from rootstate.\n",
        "        Return the best move from the rootstate.\n",
        "        Assumes 2 alternating players (player 1 starts), with game results in the range [0.0, 1.0].\"\"\"\n",
        "\n",
        "    rootnode = Node(state = rootstate)\n",
        "\n",
        "    for i in range(itermax):\n",
        "        node = rootnode\n",
        "        state = rootstate.Clone()\n",
        "\n",
        "        # Select\n",
        "        while node.untriedMoves == [] and node.childNodes != []: # node is fully expanded and non-terminal\n",
        "            node = node.UCTSelectChild()\n",
        "            state.DoMove(node.move)\n",
        "\n",
        "        # Expand\n",
        "        if node.untriedMoves != []:  # if we can expand (i.e. state/node is non-terminal)\n",
        "            m = random.choice(node.untriedMoves) \n",
        "            state.DoMove(m)\n",
        "            node = node.AddChild(m, state)  # add child and descend tree\n",
        "\n",
        "        # Rollout - this can often be made orders of magnitude quicker using a state.GetRandomMove() function\n",
        "        while state.GetMoves() != []: # while state is non-terminal\n",
        "            #print(\"Moves\", state.GetMoves())\n",
        "            if(selector <= 8):\n",
        "              board_re = np.reshape(state.board,(-1,9))\n",
        "              #print(board_re)\n",
        "              prediction = model.predict(board_re)\n",
        "              pred = prediction.astype(np.int64)\n",
        "              #print(pred[0])\n",
        "\n",
        "              if (pred[0] in state.GetMoves()):\n",
        "                state.DoMove(pred[0])\n",
        "              else:\n",
        "                state.DoMove(random.choice(state.GetMoves()))\n",
        "            else:\n",
        "              state.DoMove(random.choice(state.GetMoves()))\n",
        "\n",
        "        # Backpropagate\n",
        "        while node != None: # backpropagate from the expanded node and work back to the root node\n",
        "            node.Update(state.GetResult(node.playerJustMoved)) # state is terminal. Update node with result from POV of node.playerJustMoved\n",
        "            node = node.parentNode\n",
        "\n",
        "    # Output some information about the tree - can be omitted\n",
        "    #if verbose: print(rootnode.TreeToString(0))\n",
        "    #else: print(rootnode.ChildrenToString())\n",
        "\n",
        "    return sorted(rootnode.childNodes, key = lambda c: c.visits)[-1].move # return the move that was most visited\n",
        "                \n",
        "def UCTPlayGame(x, counter):\n",
        "    \"\"\" Play a sample game between two UCT players where each player gets a different number \n",
        "        of UCT iterations (= simulations = tree nodes).\n",
        "    \"\"\"\n",
        "    state = OXOState() # uncomment to play OXO\n",
        "    while state.GetMoves() != []:\n",
        "        #print(str(state))\n",
        "        for i in range (9):\n",
        "          df2.loc[counter,i] = state.board[i]  \n",
        "\n",
        "        randomSel = random.randint(0,9)   \n",
        "        if state.playerJustMoved == 1:\n",
        "            m = UCT(selector=randomSel, rootstate=state, itermax=1000, verbose=False)  # play with values for itermax and verbose = True\n",
        "        else:\n",
        "            m = UCT(selector=randomSel, rootstate=state, itermax=100, verbose=False)\n",
        "        #print(\"Best Move: \" + str(m) + \"\\n\")\n",
        "        df2.loc[counter,'Move_NP'] = m                                 #Prints the best move\n",
        "        df2.loc[counter,'Past_Player'] = state.playerJustMoved         #Prints the player that made the last move\n",
        "        df2.loc[counter,'New_Player'] = 3 - state.playerJustMoved      #Prints the player thai is about to play the 'best move'\n",
        "        df2.loc[counter,'Game No.'] = x + 1                            #Pints the numer of game\n",
        "        counter += 1\n",
        "        #print(\"Game no. \", x)\n",
        "        state.DoMove(m)\n",
        "        if state.GetResult(state.playerJustMoved) != False:\n",
        "            #print(str(state))\n",
        "            break\n",
        "    if state.GetResult(state.playerJustMoved) == 1.0:\n",
        "        flag = state.playerJustMoved\n",
        "        #print(\"Player \" + str(state.playerJustMoved) + \" wins!\")\n",
        "    elif state.GetResult(state.playerJustMoved) == 0.0:\n",
        "        #print(\"Player \" + str(3 - state.playerJustMoved) + \" wins!\")\n",
        "        flag = 3 - state.playerJustMoved\n",
        "    else: \n",
        "        #print(\"Nobody wins!\")\n",
        "        flag = 0\n",
        "    return counter, flag\n",
        "if __name__ == \"__main__\":\n",
        "    \"\"\" Play a single game to the end using UCT for both players. \n",
        "    \"\"\"\n",
        "    p1_wins = 0\n",
        "    p2_wins = 0\n",
        "    no_wins = 0\n",
        "    counter = 0\n",
        "    for x in range(500):\n",
        "        new_row, flag = UCTPlayGame(x,counter)\n",
        "        if (flag == 1):\n",
        "          p1_wins = p1_wins + 1\n",
        "        elif(flag == 2):\n",
        "          p2_wins = p2_wins + 1\n",
        "        elif (flag == 0):\n",
        "          no_wins = no_wins + 1\n",
        "        counter = new_row\n",
        "    print(\"Player 1 won\", p1_wins, \"times\")\n",
        "    print(\"Player 2 won\", p2_wins, \"times\")\n",
        "    print(\"Number of draws:\", no_wins)"
      ],
      "execution_count": 37,
      "outputs": [
        {
          "output_type": "stream",
          "text": [
            "Player 1 won 7 times\n",
            "Player 2 won 4 times\n",
            "Number of draws: 489\n"
          ],
          "name": "stdout"
        }
      ]
    },
    {
      "cell_type": "code",
      "metadata": {
        "id": "VXYEAUKJri_m",
        "colab_type": "code",
        "colab": {}
      },
      "source": [
        "#Save second dataset as csv file\n",
        "df2.to_csv(r'OXO_2.csv',index = None, header=True)"
      ],
      "execution_count": 0,
      "outputs": []
    },
    {
      "cell_type": "code",
      "metadata": {
        "id": "pMUd_zp5rqWf",
        "colab_type": "code",
        "outputId": "e6e0610f-aed9-4eb7-e702-d3ef9de596f4",
        "colab": {
          "base_uri": "https://localhost:8080/",
          "height": 118
        }
      },
      "source": [
        "model_2 = tree.DecisionTreeClassifier()\n",
        "inputs_2 = df2.drop(['Move_NP', 'Game No.', 'Past_Player', 'New_Player'], axis='columns')\n",
        "target_2 = df2['Move_NP']\n",
        "target_2 = target_2.astype('int')\n",
        "\n",
        "model_2.fit(inputs_2, target_2)"
      ],
      "execution_count": 39,
      "outputs": [
        {
          "output_type": "execute_result",
          "data": {
            "text/plain": [
              "DecisionTreeClassifier(ccp_alpha=0.0, class_weight=None, criterion='gini',\n",
              "                       max_depth=None, max_features=None, max_leaf_nodes=None,\n",
              "                       min_impurity_decrease=0.0, min_impurity_split=None,\n",
              "                       min_samples_leaf=1, min_samples_split=2,\n",
              "                       min_weight_fraction_leaf=0.0, presort='deprecated',\n",
              "                       random_state=None, splitter='best')"
            ]
          },
          "metadata": {
            "tags": []
          },
          "execution_count": 39
        }
      ]
    },
    {
      "cell_type": "markdown",
      "metadata": {
        "id": "9C1bjRwU3_sp",
        "colab_type": "text"
      },
      "source": [
        "#Third data recording"
      ]
    },
    {
      "cell_type": "code",
      "metadata": {
        "id": "NHCgyerI5KRq",
        "colab_type": "code",
        "outputId": "173228a6-2f09-450e-f1ea-e00c222ed7c3",
        "colab": {
          "base_uri": "https://localhost:8080/",
          "height": 47
        }
      },
      "source": [
        "df3 = pd.DataFrame(columns=['Game No.','Past_Player','New_Player','Move_NP'])\n",
        "df3.head()"
      ],
      "execution_count": 40,
      "outputs": [
        {
          "output_type": "execute_result",
          "data": {
            "text/html": [
              "<div>\n",
              "<style scoped>\n",
              "    .dataframe tbody tr th:only-of-type {\n",
              "        vertical-align: middle;\n",
              "    }\n",
              "\n",
              "    .dataframe tbody tr th {\n",
              "        vertical-align: top;\n",
              "    }\n",
              "\n",
              "    .dataframe thead th {\n",
              "        text-align: right;\n",
              "    }\n",
              "</style>\n",
              "<table border=\"1\" class=\"dataframe\">\n",
              "  <thead>\n",
              "    <tr style=\"text-align: right;\">\n",
              "      <th></th>\n",
              "      <th>Game No.</th>\n",
              "      <th>Past_Player</th>\n",
              "      <th>New_Player</th>\n",
              "      <th>Move_NP</th>\n",
              "    </tr>\n",
              "  </thead>\n",
              "  <tbody>\n",
              "  </tbody>\n",
              "</table>\n",
              "</div>"
            ],
            "text/plain": [
              "Empty DataFrame\n",
              "Columns: [Game No., Past_Player, New_Player, Move_NP]\n",
              "Index: []"
            ]
          },
          "metadata": {
            "tags": []
          },
          "execution_count": 40
        }
      ]
    },
    {
      "cell_type": "code",
      "metadata": {
        "id": "hT35aSvQ4CFq",
        "colab_type": "code",
        "outputId": "0d5becf6-259d-4243-df03-43f464ddf2bb",
        "colab": {
          "base_uri": "https://localhost:8080/",
          "height": 67
        }
      },
      "source": [
        "def UCT(selector, rootstate, itermax, verbose = False):\n",
        "    \"\"\" Conduct a UCT search for itermax iterations starting from rootstate.\n",
        "        Return the best move from the rootstate.\n",
        "        Assumes 2 alternating players (player 1 starts), with game results in the range [0.0, 1.0].\"\"\"\n",
        "\n",
        "    rootnode = Node(state = rootstate)\n",
        "\n",
        "    for i in range(itermax):\n",
        "        node = rootnode\n",
        "        state = rootstate.Clone()\n",
        "\n",
        "        # Select\n",
        "        while node.untriedMoves == [] and node.childNodes != []: # node is fully expanded and non-terminal\n",
        "            node = node.UCTSelectChild()\n",
        "            state.DoMove(node.move)\n",
        "\n",
        "        # Expand\n",
        "        if node.untriedMoves != []:  # if we can expand (i.e. state/node is non-terminal)\n",
        "            m = random.choice(node.untriedMoves) \n",
        "            state.DoMove(m)\n",
        "            node = node.AddChild(m, state)  # add child and descend tree\n",
        "\n",
        "        # Rollout - this can often be made orders of magnitude quicker using a state.GetRandomMove() function\n",
        "        while state.GetMoves() != []: # while state is non-terminal\n",
        "            #print(\"Moves\", state.GetMoves())\n",
        "            if(selector <= 8):\n",
        "              board_re = np.reshape(state.board,(-1,9))\n",
        "              #print(board_re)\n",
        "              # Emulate do-while to continue predicting if the answer is not within the possible moves\n",
        "              #while True:\n",
        "              prediction = model_2.predict(board_re)\n",
        "              pred = prediction.astype(np.int64)\n",
        "              #print(pred[0])\n",
        "                #if (pred[0] in state.GetMoves()):\n",
        "                  #break;\n",
        "              #print(prediction)\n",
        "\n",
        "              #print(type(pred[0]))\n",
        "              if (pred[0] in state.GetMoves()):\n",
        "                state.DoMove(pred[0])\n",
        "              else:\n",
        "                state.DoMove(random.choice(state.GetMoves()))\n",
        "            else:\n",
        "            #print(type(random.choice(state.GetMoves)))\n",
        "              state.DoMove(random.choice(state.GetMoves()))\n",
        "\n",
        "        # Backpropagate\n",
        "        while node != None: # backpropagate from the expanded node and work back to the root node\n",
        "            node.Update(state.GetResult(node.playerJustMoved)) # state is terminal. Update node with result from POV of node.playerJustMoved\n",
        "            node = node.parentNode\n",
        "\n",
        "    # Output some information about the tree - can be omitted\n",
        "    #if verbose: print(rootnode.TreeToString(0))\n",
        "    #else: print(rootnode.ChildrenToString())\n",
        "\n",
        "    return sorted(rootnode.childNodes, key = lambda c: c.visits)[-1].move # return the move that was most visited\n",
        "                \n",
        "def UCTPlayGame(x, counter):\n",
        "    \"\"\" Play a sample game between two UCT players where each player gets a different number \n",
        "        of UCT iterations (= simulations = tree nodes).\n",
        "    \"\"\"\n",
        "    state = OXOState() # uncomment to play OXO\n",
        "    while state.GetMoves() != []:\n",
        "        #print(str(state))\n",
        "        for i in range (9):\n",
        "          df3.loc[counter,i] = state.board[i]  \n",
        "\n",
        "        randomSel = random.randint(0,9)   \n",
        "        if state.playerJustMoved == 1:\n",
        "            m = UCT(selector=randomSel, rootstate=state, itermax=1000, verbose=False)  # play with values for itermax and verbose = True\n",
        "        else:\n",
        "            m = UCT(selector=randomSel, rootstate=state, itermax=100, verbose=False)\n",
        "        #print(\"Best Move: \" + str(m) + \"\\n\")\n",
        "        df3.loc[counter,'Move_NP'] = m                                 #Prints the best move\n",
        "        df3.loc[counter,'Past_Player'] = state.playerJustMoved         #Prints the player that made the last move\n",
        "        df3.loc[counter,'New_Player'] = 3 - state.playerJustMoved      #Prints the player thai is about to play the 'best move'\n",
        "        df3.loc[counter,'Game No.'] = x + 1                            #Pints the numer of game\n",
        "        counter += 1\n",
        "        #print(\"Game no. \", x)\n",
        "        state.DoMove(m)\n",
        "        if state.GetResult(state.playerJustMoved) != False:\n",
        "            #print(str(state))\n",
        "            break\n",
        "    if state.GetResult(state.playerJustMoved) == 1.0:\n",
        "        flag = state.playerJustMoved\n",
        "        #print(\"Player \" + str(state.playerJustMoved) + \" wins!\")\n",
        "    elif state.GetResult(state.playerJustMoved) == 0.0:\n",
        "        #print(\"Player \" + str(3 - state.playerJustMoved) + \" wins!\")\n",
        "        flag = 3 - state.playerJustMoved\n",
        "    else: \n",
        "        #print(\"Nobody wins!\")\n",
        "        flag = 0\n",
        "    return counter, flag\n",
        "if __name__ == \"__main__\":\n",
        "    \"\"\" Play a single game to the end using UCT for both players. \n",
        "    \"\"\"\n",
        "    p1_wins = 0\n",
        "    p2_wins = 0\n",
        "    no_wins = 0\n",
        "    counter = 0\n",
        "    for x in range(500):\n",
        "        new_row, flag = UCTPlayGame(x,counter)\n",
        "        if (flag == 1):\n",
        "          p1_wins = p1_wins + 1\n",
        "        elif(flag == 2):\n",
        "          p2_wins = p2_wins + 1\n",
        "        elif (flag == 0):\n",
        "          no_wins = no_wins + 1\n",
        "        counter = new_row\n",
        "    print(\"Player 1 won\", p1_wins, \"times\")\n",
        "    print(\"Player 2 won\", p2_wins, \"times\")\n",
        "    print(\"Number of draws:\", no_wins)"
      ],
      "execution_count": 42,
      "outputs": [
        {
          "output_type": "stream",
          "text": [
            "Player 1 won 10 times\n",
            "Player 2 won 5 times\n",
            "Number of draws: 485\n"
          ],
          "name": "stdout"
        }
      ]
    },
    {
      "cell_type": "code",
      "metadata": {
        "id": "tdOKWtci6IoT",
        "colab_type": "code",
        "colab": {}
      },
      "source": [
        "#Write dataframe in csv file\n",
        "df3.to_csv(r'OXO_3.csv',index = None, header=True)"
      ],
      "execution_count": 0,
      "outputs": []
    },
    {
      "cell_type": "code",
      "metadata": {
        "id": "QsyyL17u6LvD",
        "colab_type": "code",
        "colab": {
          "base_uri": "https://localhost:8080/",
          "height": 118
        },
        "outputId": "5339a378-aca2-496d-a68b-7c83e429be3c"
      },
      "source": [
        "#Decision Tree Classifier after 2 iterations\n",
        "model_3 = tree.DecisionTreeClassifier()\n",
        "inputs_3 = df3.drop(['Move_NP', 'Game No.', 'Past_Player', 'New_Player'], axis='columns')\n",
        "target_3 = df3['Move_NP']\n",
        "target_3 = target_3.astype('int')\n",
        "\n",
        "model_3.fit(inputs_3, target_3)"
      ],
      "execution_count": 44,
      "outputs": [
        {
          "output_type": "execute_result",
          "data": {
            "text/plain": [
              "DecisionTreeClassifier(ccp_alpha=0.0, class_weight=None, criterion='gini',\n",
              "                       max_depth=None, max_features=None, max_leaf_nodes=None,\n",
              "                       min_impurity_decrease=0.0, min_impurity_split=None,\n",
              "                       min_samples_leaf=1, min_samples_split=2,\n",
              "                       min_weight_fraction_leaf=0.0, presort='deprecated',\n",
              "                       random_state=None, splitter='best')"
            ]
          },
          "metadata": {
            "tags": []
          },
          "execution_count": 44
        }
      ]
    },
    {
      "cell_type": "markdown",
      "metadata": {
        "id": "Na_WCkZT-RZJ",
        "colab_type": "text"
      },
      "source": [
        "#Fourth data collection"
      ]
    },
    {
      "cell_type": "code",
      "metadata": {
        "id": "s3QqOGI_-UIt",
        "colab_type": "code",
        "colab": {
          "base_uri": "https://localhost:8080/",
          "height": 67
        },
        "outputId": "000682f0-7b3c-4cf0-9ab9-f58301857d9a"
      },
      "source": [
        "df4 = pd.DataFrame(columns=['Game No.','Past_Player','New_Player','Move_NP'])\n",
        "\n",
        "def UCT(selector, rootstate, itermax, verbose = False):\n",
        "    \"\"\" Conduct a UCT search for itermax iterations starting from rootstate.\n",
        "        Return the best move from the rootstate.\n",
        "        Assumes 2 alternating players (player 1 starts), with game results in the range [0.0, 1.0].\"\"\"\n",
        "\n",
        "    rootnode = Node(state = rootstate)\n",
        "\n",
        "    for i in range(itermax):\n",
        "        node = rootnode\n",
        "        state = rootstate.Clone()\n",
        "\n",
        "        # Select\n",
        "        while node.untriedMoves == [] and node.childNodes != []: # node is fully expanded and non-terminal\n",
        "            node = node.UCTSelectChild()\n",
        "            state.DoMove(node.move)\n",
        "\n",
        "        # Expand\n",
        "        if node.untriedMoves != []:  # if we can expand (i.e. state/node is non-terminal)\n",
        "            m = random.choice(node.untriedMoves) \n",
        "            state.DoMove(m)\n",
        "            node = node.AddChild(m, state)  # add child and descend tree\n",
        "\n",
        "        # Rollout - this can often be made orders of magnitude quicker using a state.GetRandomMove() function\n",
        "        while state.GetMoves() != []: # while state is non-terminal\n",
        "            #print(\"Moves\", state.GetMoves())\n",
        "            if(selector <= 8):\n",
        "              board_re = np.reshape(state.board,(-1,9))\n",
        "              #print(board_re)\n",
        "              # Emulate do-while to continue predicting if the answer is not within the possible moves\n",
        "              #while True:\n",
        "              prediction = model_3.predict(board_re)\n",
        "              pred = prediction.astype(np.int64)\n",
        "              #print(pred[0])\n",
        "                #if (pred[0] in state.GetMoves()):\n",
        "                  #break;\n",
        "              #print(prediction)\n",
        "\n",
        "              #print(type(pred[0]))\n",
        "              if (pred[0] in state.GetMoves()):\n",
        "                state.DoMove(pred[0])\n",
        "              else:\n",
        "                state.DoMove(random.choice(state.GetMoves()))\n",
        "            else:\n",
        "            #print(type(random.choice(state.GetMoves)))\n",
        "              state.DoMove(random.choice(state.GetMoves()))\n",
        "\n",
        "        # Backpropagate\n",
        "        while node != None: # backpropagate from the expanded node and work back to the root node\n",
        "            node.Update(state.GetResult(node.playerJustMoved)) # state is terminal. Update node with result from POV of node.playerJustMoved\n",
        "            node = node.parentNode\n",
        "\n",
        "    # Output some information about the tree - can be omitted\n",
        "    #if verbose: print(rootnode.TreeToString(0))\n",
        "    #else: print(rootnode.ChildrenToString())\n",
        "\n",
        "    return sorted(rootnode.childNodes, key = lambda c: c.visits)[-1].move # return the move that was most visited\n",
        "                \n",
        "def UCTPlayGame(x, counter):\n",
        "    \"\"\" Play a sample game between two UCT players where each player gets a different number \n",
        "        of UCT iterations (= simulations = tree nodes).\n",
        "    \"\"\"\n",
        "    state = OXOState() # uncomment to play OXO\n",
        "    while state.GetMoves() != []:\n",
        "        #print(str(state))\n",
        "        for i in range (9):\n",
        "          df4.loc[counter,i] = state.board[i]  \n",
        "\n",
        "        randomSel = random.randint(0,9)   \n",
        "        if state.playerJustMoved == 1:\n",
        "            m = UCT(selector=randomSel, rootstate=state, itermax=1000, verbose=False)  # play with values for itermax and verbose = True\n",
        "        else:\n",
        "            m = UCT(selector=randomSel, rootstate=state, itermax=50, verbose=False)\n",
        "        #print(\"Best Move: \" + str(m) + \"\\n\")\n",
        "        df4.loc[counter,'Move_NP'] = m                                 #Prints the best move\n",
        "        df4.loc[counter,'Past_Player'] = state.playerJustMoved         #Prints the player that made the last move\n",
        "        df4.loc[counter,'New_Player'] = 3 - state.playerJustMoved      #Prints the player thai is about to play the 'best move'\n",
        "        df4.loc[counter,'Game No.'] = x + 1                            #Pints the numer of game\n",
        "        counter += 1\n",
        "        #print(\"Game no. \", x)\n",
        "        state.DoMove(m)\n",
        "        if state.GetResult(state.playerJustMoved) != False:\n",
        "            #print(str(state))\n",
        "            break\n",
        "    if state.GetResult(state.playerJustMoved) == 1.0:\n",
        "        flag = state.playerJustMoved\n",
        "        #print(\"Player \" + str(state.playerJustMoved) + \" wins!\")\n",
        "    elif state.GetResult(state.playerJustMoved) == 0.0:\n",
        "        #print(\"Player \" + str(3 - state.playerJustMoved) + \" wins!\")\n",
        "        flag = 3 - state.playerJustMoved\n",
        "    else: \n",
        "        #print(\"Nobody wins!\")\n",
        "        flag = 0\n",
        "    return counter, flag\n",
        "if __name__ == \"__main__\":\n",
        "    \"\"\" Play a single game to the end using UCT for both players. \n",
        "    \"\"\"\n",
        "    p1_wins = 0\n",
        "    p2_wins = 0\n",
        "    no_wins = 0\n",
        "    counter = 0\n",
        "    for x in range(500):\n",
        "        new_row, flag = UCTPlayGame(x,counter)\n",
        "        if (flag == 1):\n",
        "          p1_wins = p1_wins + 1\n",
        "        elif(flag == 2):\n",
        "          p2_wins = p2_wins + 1\n",
        "        elif (flag == 0):\n",
        "          no_wins = no_wins + 1\n",
        "        counter = new_row\n",
        "    print(\"Player 1 won\", p1_wins, \"times\")\n",
        "    print(\"Player 2 won\", p2_wins, \"times\")\n",
        "    print(\"Number of draws:\", no_wins)\n",
        "\n",
        "    #Write dataframe in csv file\n",
        "    df4.to_csv(r'OXO_4.csv',index = None, header=True)"
      ],
      "execution_count": 46,
      "outputs": [
        {
          "output_type": "stream",
          "text": [
            "Player 1 won 29 times\n",
            "Player 2 won 30 times\n",
            "Number of draws: 441\n"
          ],
          "name": "stdout"
        }
      ]
    },
    {
      "cell_type": "code",
      "metadata": {
        "id": "l1PSO_WlAqYr",
        "colab_type": "code",
        "colab": {
          "base_uri": "https://localhost:8080/",
          "height": 118
        },
        "outputId": "5b28dce8-8a63-425b-9240-6c5b4bdbdab6"
      },
      "source": [
        "#Decision Tree Classifier after 3 iterations\n",
        "model_4 = tree.DecisionTreeClassifier()\n",
        "inputs_4 = df4.drop(['Move_NP', 'Game No.', 'Past_Player', 'New_Player'], axis='columns')\n",
        "target_4 = df4['Move_NP']\n",
        "target_4 = target_4.astype('int')\n",
        "\n",
        "model_4.fit(inputs_4, target_4)"
      ],
      "execution_count": 56,
      "outputs": [
        {
          "output_type": "execute_result",
          "data": {
            "text/plain": [
              "DecisionTreeClassifier(ccp_alpha=0.0, class_weight=None, criterion='gini',\n",
              "                       max_depth=None, max_features=None, max_leaf_nodes=None,\n",
              "                       min_impurity_decrease=0.0, min_impurity_split=None,\n",
              "                       min_samples_leaf=1, min_samples_split=2,\n",
              "                       min_weight_fraction_leaf=0.0, presort='deprecated',\n",
              "                       random_state=None, splitter='best')"
            ]
          },
          "metadata": {
            "tags": []
          },
          "execution_count": 56
        }
      ]
    },
    {
      "cell_type": "markdown",
      "metadata": {
        "id": "FAa5UJgAA3oN",
        "colab_type": "text"
      },
      "source": [
        "#Fifth data collection"
      ]
    },
    {
      "cell_type": "code",
      "metadata": {
        "id": "5OmG3H0NA53H",
        "colab_type": "code",
        "colab": {
          "base_uri": "https://localhost:8080/",
          "height": 67
        },
        "outputId": "764bca02-30ee-4eeb-fce3-89d9cb12bd86"
      },
      "source": [
        "df5 = pd.DataFrame(columns=['Game No.','Past_Player','New_Player','Move_NP'])\n",
        "\n",
        "def UCT(selector, rootstate, itermax, verbose = False):\n",
        "    \"\"\" Conduct a UCT search for itermax iterations starting from rootstate.\n",
        "        Return the best move from the rootstate.\n",
        "        Assumes 2 alternating players (player 1 starts), with game results in the range [0.0, 1.0].\"\"\"\n",
        "\n",
        "    rootnode = Node(state = rootstate)\n",
        "\n",
        "    for i in range(itermax):\n",
        "        node = rootnode\n",
        "        state = rootstate.Clone()\n",
        "\n",
        "        # Select\n",
        "        while node.untriedMoves == [] and node.childNodes != []: # node is fully expanded and non-terminal\n",
        "            node = node.UCTSelectChild()\n",
        "            state.DoMove(node.move)\n",
        "\n",
        "        # Expand\n",
        "        if node.untriedMoves != []:  # if we can expand (i.e. state/node is non-terminal)\n",
        "            m = random.choice(node.untriedMoves) \n",
        "            state.DoMove(m)\n",
        "            node = node.AddChild(m, state)  # add child and descend tree\n",
        "\n",
        "        # Rollout - this can often be made orders of magnitude quicker using a state.GetRandomMove() function\n",
        "        while state.GetMoves() != []: # while state is non-terminal\n",
        "            #print(\"Moves\", state.GetMoves())\n",
        "            if(selector <= 8):\n",
        "              board_re = np.reshape(state.board,(-1,9))\n",
        "              #print(board_re)\n",
        "              # Emulate do-while to continue predicting if the answer is not within the possible moves\n",
        "              #while True:\n",
        "              prediction = model_4.predict(board_re)\n",
        "              pred = prediction.astype(np.int64)\n",
        "              #print(pred[0])\n",
        "                #if (pred[0] in state.GetMoves()):\n",
        "                  #break;\n",
        "              #print(prediction)\n",
        "\n",
        "              #print(type(pred[0]))\n",
        "              if (pred[0] in state.GetMoves()):\n",
        "                state.DoMove(pred[0])\n",
        "              else:\n",
        "                state.DoMove(random.choice(state.GetMoves()))\n",
        "            else:\n",
        "            #print(type(random.choice(state.GetMoves)))\n",
        "              state.DoMove(random.choice(state.GetMoves()))\n",
        "\n",
        "        # Backpropagate\n",
        "        while node != None: # backpropagate from the expanded node and work back to the root node\n",
        "            node.Update(state.GetResult(node.playerJustMoved)) # state is terminal. Update node with result from POV of node.playerJustMoved\n",
        "            node = node.parentNode\n",
        "\n",
        "    # Output some information about the tree - can be omitted\n",
        "    #if verbose: print(rootnode.TreeToString(0))\n",
        "    #else: print(rootnode.ChildrenToString())\n",
        "\n",
        "    return sorted(rootnode.childNodes, key = lambda c: c.visits)[-1].move # return the move that was most visited\n",
        "                \n",
        "def UCTPlayGame(x, counter):\n",
        "    \"\"\" Play a sample game between two UCT players where each player gets a different number \n",
        "        of UCT iterations (= simulations = tree nodes).\n",
        "    \"\"\"\n",
        "    state = OXOState() # uncomment to play OXO\n",
        "    while state.GetMoves() != []:\n",
        "        #print(str(state))\n",
        "        for i in range (9):\n",
        "          df5.loc[counter,i] = state.board[i]  \n",
        "\n",
        "        randomSel = random.randint(0,9)   \n",
        "        if state.playerJustMoved == 1:\n",
        "            m = UCT(selector=randomSel, rootstate=state, itermax=1000, verbose=False)  # play with values for itermax and verbose = True\n",
        "        else:\n",
        "            m = UCT(selector=randomSel, rootstate=state, itermax=100, verbose=False)\n",
        "        #print(\"Best Move: \" + str(m) + \"\\n\")\n",
        "        df5.loc[counter,'Move_NP'] = m                                 #Prints the best move\n",
        "        df5.loc[counter,'Past_Player'] = state.playerJustMoved         #Prints the player that made the last move\n",
        "        df5.loc[counter,'New_Player'] = 3 - state.playerJustMoved      #Prints the player thai is about to play the 'best move'\n",
        "        df5.loc[counter,'Game No.'] = x + 1                            #Pints the numer of game\n",
        "        counter += 1\n",
        "        #print(\"Game no. \", x)\n",
        "        state.DoMove(m)\n",
        "        if state.GetResult(state.playerJustMoved) != False:\n",
        "            #print(str(state))\n",
        "            break\n",
        "    if state.GetResult(state.playerJustMoved) == 1.0:\n",
        "        flag = state.playerJustMoved\n",
        "        #print(\"Player \" + str(state.playerJustMoved) + \" wins!\")\n",
        "    elif state.GetResult(state.playerJustMoved) == 0.0:\n",
        "        #print(\"Player \" + str(3 - state.playerJustMoved) + \" wins!\")\n",
        "        flag = 3 - state.playerJustMoved\n",
        "    else: \n",
        "        #print(\"Nobody wins!\")\n",
        "        flag = 0\n",
        "    return counter, flag\n",
        "if __name__ == \"__main__\":\n",
        "    \"\"\" Play a single game to the end using UCT for both players. \n",
        "    \"\"\"\n",
        "    p1_wins = 0\n",
        "    p2_wins = 0\n",
        "    no_wins = 0\n",
        "    counter = 0\n",
        "    for x in range(500):\n",
        "        new_row, flag = UCTPlayGame(x,counter)\n",
        "        if (flag == 1):\n",
        "          p1_wins = p1_wins + 1\n",
        "        elif(flag == 2):\n",
        "          p2_wins = p2_wins + 1\n",
        "        elif (flag == 0):\n",
        "          no_wins = no_wins + 1\n",
        "        counter = new_row\n",
        "    print(\"Player 1 won\", p1_wins, \"times\")\n",
        "    print(\"Player 2 won\", p2_wins, \"times\")\n",
        "    print(\"Number of draws:\", no_wins)\n",
        "\n",
        "    #Write dataframe in csv file\n",
        "    df5.to_csv(r'OXO_5.csv',index = None, header=True)"
      ],
      "execution_count": 58,
      "outputs": [
        {
          "output_type": "stream",
          "text": [
            "Player 1 won 6 times\n",
            "Player 2 won 4 times\n",
            "Number of draws: 490\n"
          ],
          "name": "stdout"
        }
      ]
    },
    {
      "cell_type": "code",
      "metadata": {
        "id": "ImwjNgySBD5E",
        "colab_type": "code",
        "colab": {
          "base_uri": "https://localhost:8080/",
          "height": 118
        },
        "outputId": "320d0411-caf2-40df-e14a-8e6785e60356"
      },
      "source": [
        "#Decision Tree Classifier after 3 iterations\n",
        "model_5 = tree.DecisionTreeClassifier()\n",
        "inputs_5 = df5.drop(['Move_NP', 'Game No.', 'Past_Player', 'New_Player'], axis='columns')\n",
        "target_5 = df5['Move_NP']\n",
        "target_5 = target_5.astype('int')\n",
        "\n",
        "model_5.fit(inputs_5, target_5)"
      ],
      "execution_count": 59,
      "outputs": [
        {
          "output_type": "execute_result",
          "data": {
            "text/plain": [
              "DecisionTreeClassifier(ccp_alpha=0.0, class_weight=None, criterion='gini',\n",
              "                       max_depth=None, max_features=None, max_leaf_nodes=None,\n",
              "                       min_impurity_decrease=0.0, min_impurity_split=None,\n",
              "                       min_samples_leaf=1, min_samples_split=2,\n",
              "                       min_weight_fraction_leaf=0.0, presort='deprecated',\n",
              "                       random_state=None, splitter='best')"
            ]
          },
          "metadata": {
            "tags": []
          },
          "execution_count": 59
        }
      ]
    },
    {
      "cell_type": "markdown",
      "metadata": {
        "id": "cW5ta9pQZ7Qw",
        "colab_type": "text"
      },
      "source": [
        "#Sixth data collection"
      ]
    },
    {
      "cell_type": "code",
      "metadata": {
        "id": "YomLFTbRZ9pC",
        "colab_type": "code",
        "colab": {
          "base_uri": "https://localhost:8080/",
          "height": 67
        },
        "outputId": "5d9cdc0b-d287-430f-f9a8-0f672867b700"
      },
      "source": [
        "df6 = pd.DataFrame(columns=['Game No.','Past_Player','New_Player','Move_NP'])\n",
        "\n",
        "def UCT(selector, rootstate, itermax, verbose = False):\n",
        "    \"\"\" Conduct a UCT search for itermax iterations starting from rootstate.\n",
        "        Return the best move from the rootstate.\n",
        "        Assumes 2 alternating players (player 1 starts), with game results in the range [0.0, 1.0].\"\"\"\n",
        "\n",
        "    rootnode = Node(state = rootstate)\n",
        "\n",
        "    for i in range(itermax):\n",
        "        node = rootnode\n",
        "        state = rootstate.Clone()\n",
        "\n",
        "        # Select\n",
        "        while node.untriedMoves == [] and node.childNodes != []: # node is fully expanded and non-terminal\n",
        "            node = node.UCTSelectChild()\n",
        "            state.DoMove(node.move)\n",
        "\n",
        "        # Expand\n",
        "        if node.untriedMoves != []:  # if we can expand (i.e. state/node is non-terminal)\n",
        "            m = random.choice(node.untriedMoves) \n",
        "            state.DoMove(m)\n",
        "            node = node.AddChild(m, state)  # add child and descend tree\n",
        "\n",
        "        # Rollout - this can often be made orders of magnitude quicker using a state.GetRandomMove() function\n",
        "        while state.GetMoves() != []: # while state is non-terminal\n",
        "            #print(\"Moves\", state.GetMoves())\n",
        "            if(selector <= 8):\n",
        "              board_re = np.reshape(state.board,(-1,9))\n",
        "              #print(board_re)\n",
        "              # Emulate do-while to continue predicting if the answer is not within the possible moves\n",
        "              #while True:\n",
        "              prediction = model_5.predict(board_re)\n",
        "              pred = prediction.astype(np.int64)\n",
        "              #print(pred[0])\n",
        "                #if (pred[0] in state.GetMoves()):\n",
        "                  #break;\n",
        "              #print(prediction)\n",
        "\n",
        "              #print(type(pred[0]))\n",
        "              if (pred[0] in state.GetMoves()):\n",
        "                state.DoMove(pred[0])\n",
        "              else:\n",
        "                state.DoMove(random.choice(state.GetMoves()))\n",
        "            else:\n",
        "            #print(type(random.choice(state.GetMoves)))\n",
        "              state.DoMove(random.choice(state.GetMoves()))\n",
        "\n",
        "        # Backpropagate\n",
        "        while node != None: # backpropagate from the expanded node and work back to the root node\n",
        "            node.Update(state.GetResult(node.playerJustMoved)) # state is terminal. Update node with result from POV of node.playerJustMoved\n",
        "            node = node.parentNode\n",
        "\n",
        "    # Output some information about the tree - can be omitted\n",
        "    #if verbose: print(rootnode.TreeToString(0))\n",
        "    #else: print(rootnode.ChildrenToString())\n",
        "\n",
        "    return sorted(rootnode.childNodes, key = lambda c: c.visits)[-1].move # return the move that was most visited\n",
        "                \n",
        "def UCTPlayGame(x, counter):\n",
        "    \"\"\" Play a sample game between two UCT players where each player gets a different number \n",
        "        of UCT iterations (= simulations = tree nodes).\n",
        "    \"\"\"\n",
        "    state = OXOState() # uncomment to play OXO\n",
        "    while state.GetMoves() != []:\n",
        "        #print(str(state))\n",
        "        for i in range (9):\n",
        "          df6.loc[counter,i] = state.board[i]  \n",
        "\n",
        "        randomSel = random.randint(0,9)   \n",
        "        if state.playerJustMoved == 1:\n",
        "            m = UCT(selector=randomSel, rootstate=state, itermax=1000, verbose=False)  # play with values for itermax and verbose = True\n",
        "        else:\n",
        "            m = UCT(selector=randomSel, rootstate=state, itermax=100, verbose=False)\n",
        "        #print(\"Best Move: \" + str(m) + \"\\n\")\n",
        "        df6.loc[counter,'Move_NP'] = m                                 #Prints the best move\n",
        "        df6.loc[counter,'Past_Player'] = state.playerJustMoved         #Prints the player that made the last move\n",
        "        df6.loc[counter,'New_Player'] = 3 - state.playerJustMoved      #Prints the player thai is about to play the 'best move'\n",
        "        df6.loc[counter,'Game No.'] = x + 1                            #Pints the numer of game\n",
        "        counter += 1\n",
        "        #print(\"Game no. \", x)\n",
        "        state.DoMove(m)\n",
        "        if state.GetResult(state.playerJustMoved) != False:\n",
        "            #print(str(state))\n",
        "            break\n",
        "    if state.GetResult(state.playerJustMoved) == 1.0:\n",
        "        flag = state.playerJustMoved\n",
        "        #print(\"Player \" + str(state.playerJustMoved) + \" wins!\")\n",
        "    elif state.GetResult(state.playerJustMoved) == 0.0:\n",
        "        #print(\"Player \" + str(3 - state.playerJustMoved) + \" wins!\")\n",
        "        flag = 3 - state.playerJustMoved\n",
        "    else: \n",
        "        #print(\"Nobody wins!\")\n",
        "        flag = 0\n",
        "    return counter, flag\n",
        "if __name__ == \"__main__\":\n",
        "    \"\"\" Play a single game to the end using UCT for both players. \n",
        "    \"\"\"\n",
        "    p1_wins = 0\n",
        "    p2_wins = 0\n",
        "    no_wins = 0\n",
        "    counter = 0\n",
        "    for x in range(500):\n",
        "        new_row, flag = UCTPlayGame(x,counter)\n",
        "        if (flag == 1):\n",
        "          p1_wins = p1_wins + 1\n",
        "        elif(flag == 2):\n",
        "          p2_wins = p2_wins + 1\n",
        "        elif (flag == 0):\n",
        "          no_wins = no_wins + 1\n",
        "        counter = new_row\n",
        "    print(\"Player 1 won\", p1_wins, \"times\")\n",
        "    print(\"Player 2 won\", p2_wins, \"times\")\n",
        "    print(\"Number of draws:\", no_wins)\n",
        "\n",
        "    #Write dataframe in csv file\n",
        "    df6.to_csv(r'OXO_6.csv',index = None, header=True)"
      ],
      "execution_count": 60,
      "outputs": [
        {
          "output_type": "stream",
          "text": [
            "Player 1 won 64 times\n",
            "Player 2 won 27 times\n",
            "Number of draws: 409\n"
          ],
          "name": "stdout"
        }
      ]
    },
    {
      "cell_type": "code",
      "metadata": {
        "id": "f4ZuOhD8fBB2",
        "colab_type": "code",
        "colab": {
          "base_uri": "https://localhost:8080/",
          "height": 118
        },
        "outputId": "cd0c1e0d-68f4-40d2-fd26-9b370b6347fc"
      },
      "source": [
        "#Decision Tree Classifier after 3 iterations\n",
        "model_6 = tree.DecisionTreeClassifier()\n",
        "inputs_6 = df6.drop(['Move_NP', 'Game No.', 'Past_Player', 'New_Player'], axis='columns')\n",
        "target_6 = df6['Move_NP']\n",
        "target_6 = target_6.astype('int')\n",
        "\n",
        "model_6.fit(inputs_6, target_6)"
      ],
      "execution_count": 61,
      "outputs": [
        {
          "output_type": "execute_result",
          "data": {
            "text/plain": [
              "DecisionTreeClassifier(ccp_alpha=0.0, class_weight=None, criterion='gini',\n",
              "                       max_depth=None, max_features=None, max_leaf_nodes=None,\n",
              "                       min_impurity_decrease=0.0, min_impurity_split=None,\n",
              "                       min_samples_leaf=1, min_samples_split=2,\n",
              "                       min_weight_fraction_leaf=0.0, presort='deprecated',\n",
              "                       random_state=None, splitter='best')"
            ]
          },
          "metadata": {
            "tags": []
          },
          "execution_count": 61
        }
      ]
    },
    {
      "cell_type": "markdown",
      "metadata": {
        "id": "UfOgS78KoZn7",
        "colab_type": "text"
      },
      "source": [
        "#Seventh Data Collection"
      ]
    },
    {
      "cell_type": "code",
      "metadata": {
        "id": "3eHCyHijockw",
        "colab_type": "code",
        "colab": {
          "base_uri": "https://localhost:8080/",
          "height": 67
        },
        "outputId": "94200fe2-197c-4ea2-b917-596c4bf9a80a"
      },
      "source": [
        "df7 = pd.DataFrame(columns=['Game No.','Past_Player','New_Player','Move_NP'])\n",
        "\n",
        "def UCT(selector, rootstate, itermax, verbose = False):\n",
        "    \"\"\" Conduct a UCT search for itermax iterations starting from rootstate.\n",
        "        Return the best move from the rootstate.\n",
        "        Assumes 2 alternating players (player 1 starts), with game results in the range [0.0, 1.0].\"\"\"\n",
        "\n",
        "    rootnode = Node(state = rootstate)\n",
        "\n",
        "    for i in range(itermax):\n",
        "        node = rootnode\n",
        "        state = rootstate.Clone()\n",
        "\n",
        "        # Select\n",
        "        while node.untriedMoves == [] and node.childNodes != []: # node is fully expanded and non-terminal\n",
        "            node = node.UCTSelectChild()\n",
        "            state.DoMove(node.move)\n",
        "\n",
        "        # Expand\n",
        "        if node.untriedMoves != []:  # if we can expand (i.e. state/node is non-terminal)\n",
        "            m = random.choice(node.untriedMoves) \n",
        "            state.DoMove(m)\n",
        "            node = node.AddChild(m, state)  # add child and descend tree\n",
        "\n",
        "        # Rollout - this can often be made orders of magnitude quicker using a state.GetRandomMove() function\n",
        "        while state.GetMoves() != []: # while state is non-terminal\n",
        "            #print(\"Moves\", state.GetMoves())\n",
        "            if(selector <= 8):\n",
        "              board_re = np.reshape(state.board,(-1,9))\n",
        "              #print(board_re)\n",
        "              # Emulate do-while to continue predicting if the answer is not within the possible moves\n",
        "              #while True:\n",
        "              prediction = model_6.predict(board_re)\n",
        "              pred = prediction.astype(np.int64)\n",
        "              #print(pred[0])\n",
        "                #if (pred[0] in state.GetMoves()):\n",
        "                  #break;\n",
        "              #print(prediction)\n",
        "\n",
        "              #print(type(pred[0]))\n",
        "              if (pred[0] in state.GetMoves()):\n",
        "                state.DoMove(pred[0])\n",
        "              else:\n",
        "                state.DoMove(random.choice(state.GetMoves()))\n",
        "            else:\n",
        "            #print(type(random.choice(state.GetMoves)))\n",
        "              state.DoMove(random.choice(state.GetMoves()))\n",
        "\n",
        "        # Backpropagate\n",
        "        while node != None: # backpropagate from the expanded node and work back to the root node\n",
        "            node.Update(state.GetResult(node.playerJustMoved)) # state is terminal. Update node with result from POV of node.playerJustMoved\n",
        "            node = node.parentNode\n",
        "\n",
        "    # Output some information about the tree - can be omitted\n",
        "    #if verbose: print(rootnode.TreeToString(0))\n",
        "    #else: print(rootnode.ChildrenToString())\n",
        "\n",
        "    return sorted(rootnode.childNodes, key = lambda c: c.visits)[-1].move # return the move that was most visited\n",
        "                \n",
        "def UCTPlayGame(x, counter):\n",
        "    \"\"\" Play a sample game between two UCT players where each player gets a different number \n",
        "        of UCT iterations (= simulations = tree nodes).\n",
        "    \"\"\"\n",
        "    state = OXOState() # uncomment to play OXO\n",
        "    while state.GetMoves() != []:\n",
        "        #print(str(state))\n",
        "        for i in range (9):\n",
        "          df7.loc[counter,i] = state.board[i]  \n",
        "\n",
        "        randomSel = random.randint(0,9)   \n",
        "        if state.playerJustMoved == 1:\n",
        "            m = UCT(selector=randomSel, rootstate=state, itermax=1000, verbose=False)  # play with values for itermax and verbose = True\n",
        "        else:\n",
        "            m = UCT(selector=randomSel, rootstate=state, itermax=100, verbose=False)\n",
        "        #print(\"Best Move: \" + str(m) + \"\\n\")\n",
        "        df7.loc[counter,'Move_NP'] = m                                 #Prints the best move\n",
        "        df7.loc[counter,'Past_Player'] = state.playerJustMoved         #Prints the player that made the last move\n",
        "        df7.loc[counter,'New_Player'] = 3 - state.playerJustMoved      #Prints the player thai is about to play the 'best move'\n",
        "        df7.loc[counter,'Game No.'] = x + 1                            #Pints the numer of game\n",
        "        counter += 1\n",
        "        #print(\"Game no. \", x)\n",
        "        state.DoMove(m)\n",
        "        if state.GetResult(state.playerJustMoved) != False:\n",
        "            #print(str(state))\n",
        "            break\n",
        "    if state.GetResult(state.playerJustMoved) == 1.0:\n",
        "        flag = state.playerJustMoved\n",
        "        #print(\"Player \" + str(state.playerJustMoved) + \" wins!\")\n",
        "    elif state.GetResult(state.playerJustMoved) == 0.0:\n",
        "        #print(\"Player \" + str(3 - state.playerJustMoved) + \" wins!\")\n",
        "        flag = 3 - state.playerJustMoved\n",
        "    else: \n",
        "        #print(\"Nobody wins!\")\n",
        "        flag = 0\n",
        "    return counter, flag\n",
        "if __name__ == \"__main__\":\n",
        "    \"\"\" Play a single game to the end using UCT for both players. \n",
        "    \"\"\"\n",
        "    p1_wins = 0\n",
        "    p2_wins = 0\n",
        "    no_wins = 0\n",
        "    counter = 0\n",
        "    for x in range(500):\n",
        "        new_row, flag = UCTPlayGame(x,counter)\n",
        "        if (flag == 1):\n",
        "          p1_wins = p1_wins + 1\n",
        "        elif(flag == 2):\n",
        "          p2_wins = p2_wins + 1\n",
        "        elif (flag == 0):\n",
        "          no_wins = no_wins + 1\n",
        "        counter = new_row\n",
        "    print(\"Player 1 won\", p1_wins, \"times\")\n",
        "    print(\"Player 2 won\", p2_wins, \"times\")\n",
        "    print(\"Number of draws:\", no_wins)"
      ],
      "execution_count": 63,
      "outputs": [
        {
          "output_type": "stream",
          "text": [
            "Player 1 won 10 times\n",
            "Player 2 won 9 times\n",
            "Number of draws: 481\n"
          ],
          "name": "stdout"
        }
      ]
    },
    {
      "cell_type": "code",
      "metadata": {
        "id": "02yR7V_xr5Xi",
        "colab_type": "code",
        "colab": {}
      },
      "source": [
        "#Write dataframe 6 in csv file\n",
        "df6.to_csv(r'OXO_6.csv',index = None, header=True)"
      ],
      "execution_count": 0,
      "outputs": []
    },
    {
      "cell_type": "code",
      "metadata": {
        "id": "L35aNr-3rz3q",
        "colab_type": "code",
        "colab": {}
      },
      "source": [
        "#Write dataframe in csv file\n",
        "df7.to_csv(r'OXO_7.csv',index = None, header=True)"
      ],
      "execution_count": 0,
      "outputs": []
    },
    {
      "cell_type": "code",
      "metadata": {
        "id": "sGBTijpFocqu",
        "colab_type": "code",
        "colab": {
          "base_uri": "https://localhost:8080/",
          "height": 118
        },
        "outputId": "baada762-fc21-43c3-f2b6-30aae153d6b9"
      },
      "source": [
        "#Decision Tree Classifier after 3 iterations\n",
        "model_7 = tree.DecisionTreeClassifier()\n",
        "inputs_7 = df7.drop(['Move_NP', 'Game No.', 'Past_Player', 'New_Player'], axis='columns')\n",
        "target_7 = df7['Move_NP']\n",
        "target_7 = target_7.astype('int')\n",
        "\n",
        "model_7.fit(inputs_7, target_7)"
      ],
      "execution_count": 65,
      "outputs": [
        {
          "output_type": "execute_result",
          "data": {
            "text/plain": [
              "DecisionTreeClassifier(ccp_alpha=0.0, class_weight=None, criterion='gini',\n",
              "                       max_depth=None, max_features=None, max_leaf_nodes=None,\n",
              "                       min_impurity_decrease=0.0, min_impurity_split=None,\n",
              "                       min_samples_leaf=1, min_samples_split=2,\n",
              "                       min_weight_fraction_leaf=0.0, presort='deprecated',\n",
              "                       random_state=None, splitter='best')"
            ]
          },
          "metadata": {
            "tags": []
          },
          "execution_count": 65
        }
      ]
    },
    {
      "cell_type": "markdown",
      "metadata": {
        "id": "x0FBxu8oo24r",
        "colab_type": "text"
      },
      "source": [
        "#Eight Data Collection"
      ]
    },
    {
      "cell_type": "code",
      "metadata": {
        "id": "TNSHb3cIo7mU",
        "colab_type": "code",
        "colab": {
          "base_uri": "https://localhost:8080/",
          "height": 67
        },
        "outputId": "0bed141a-c7d3-417e-a8fc-0c5e4ac20ccf"
      },
      "source": [
        "df8 = pd.DataFrame(columns=['Game No.','Past_Player','New_Player','Move_NP'])\n",
        "\n",
        "def UCT(selector, rootstate, itermax, verbose = False):\n",
        "    \"\"\" Conduct a UCT search for itermax iterations starting from rootstate.\n",
        "        Return the best move from the rootstate.\n",
        "        Assumes 2 alternating players (player 1 starts), with game results in the range [0.0, 1.0].\"\"\"\n",
        "\n",
        "    rootnode = Node(state = rootstate)\n",
        "\n",
        "    for i in range(itermax):\n",
        "        node = rootnode\n",
        "        state = rootstate.Clone()\n",
        "\n",
        "        # Select\n",
        "        while node.untriedMoves == [] and node.childNodes != []: # node is fully expanded and non-terminal\n",
        "            node = node.UCTSelectChild()\n",
        "            state.DoMove(node.move)\n",
        "\n",
        "        # Expand\n",
        "        if node.untriedMoves != []:  # if we can expand (i.e. state/node is non-terminal)\n",
        "            m = random.choice(node.untriedMoves) \n",
        "            state.DoMove(m)\n",
        "            node = node.AddChild(m, state)  # add child and descend tree\n",
        "\n",
        "        # Rollout - this can often be made orders of magnitude quicker using a state.GetRandomMove() function\n",
        "        while state.GetMoves() != []: # while state is non-terminal\n",
        "            #print(\"Moves\", state.GetMoves())\n",
        "            if(selector <= 8):\n",
        "              board_re = np.reshape(state.board,(-1,9))\n",
        "              #print(board_re)\n",
        "              # Emulate do-while to continue predicting if the answer is not within the possible moves\n",
        "              #while True:\n",
        "              prediction = model_7.predict(board_re)\n",
        "              pred = prediction.astype(np.int64)\n",
        "              #print(pred[0])\n",
        "                #if (pred[0] in state.GetMoves()):\n",
        "                  #break;\n",
        "              #print(prediction)\n",
        "\n",
        "              #print(type(pred[0]))\n",
        "              if (pred[0] in state.GetMoves()):\n",
        "                state.DoMove(pred[0])\n",
        "              else:\n",
        "                state.DoMove(random.choice(state.GetMoves()))\n",
        "            else:\n",
        "            #print(type(random.choice(state.GetMoves)))\n",
        "              state.DoMove(random.choice(state.GetMoves()))\n",
        "\n",
        "        # Backpropagate\n",
        "        while node != None: # backpropagate from the expanded node and work back to the root node\n",
        "            node.Update(state.GetResult(node.playerJustMoved)) # state is terminal. Update node with result from POV of node.playerJustMoved\n",
        "            node = node.parentNode\n",
        "\n",
        "    # Output some information about the tree - can be omitted\n",
        "    #if verbose: print(rootnode.TreeToString(0))\n",
        "    #else: print(rootnode.ChildrenToString())\n",
        "\n",
        "    return sorted(rootnode.childNodes, key = lambda c: c.visits)[-1].move # return the move that was most visited\n",
        "                \n",
        "def UCTPlayGame(x, counter):\n",
        "    \"\"\" Play a sample game between two UCT players where each player gets a different number \n",
        "        of UCT iterations (= simulations = tree nodes).\n",
        "    \"\"\"\n",
        "    state = OXOState() # uncomment to play OXO\n",
        "    while state.GetMoves() != []:\n",
        "        #print(str(state))\n",
        "        for i in range (9):\n",
        "          df8.loc[counter,i] = state.board[i]  \n",
        "\n",
        "        randomSel = random.randint(0,9)   \n",
        "        if state.playerJustMoved == 1:\n",
        "            m = UCT(selector=randomSel, rootstate=state, itermax=1000, verbose=False)  # play with values for itermax and verbose = True\n",
        "        else:\n",
        "            m = UCT(selector=randomSel, rootstate=state, itermax=100, verbose=False)\n",
        "        #print(\"Best Move: \" + str(m) + \"\\n\")\n",
        "        df8.loc[counter,'Move_NP'] = m                                 #Prints the best move\n",
        "        df8.loc[counter,'Past_Player'] = state.playerJustMoved         #Prints the player that made the last move\n",
        "        df8.loc[counter,'New_Player'] = 3 - state.playerJustMoved      #Prints the player thai is about to play the 'best move'\n",
        "        df8.loc[counter,'Game No.'] = x + 1                            #Pints the numer of game\n",
        "        counter += 1\n",
        "        #print(\"Game no. \", x)\n",
        "        state.DoMove(m)\n",
        "        if state.GetResult(state.playerJustMoved) != False:\n",
        "            #print(str(state))\n",
        "            break\n",
        "    if state.GetResult(state.playerJustMoved) == 1.0:\n",
        "        flag = state.playerJustMoved\n",
        "        #print(\"Player \" + str(state.playerJustMoved) + \" wins!\")\n",
        "    elif state.GetResult(state.playerJustMoved) == 0.0:\n",
        "        #print(\"Player \" + str(3 - state.playerJustMoved) + \" wins!\")\n",
        "        flag = 3 - state.playerJustMoved\n",
        "    else: \n",
        "        #print(\"Nobody wins!\")\n",
        "        flag = 0\n",
        "    return counter, flag\n",
        "if __name__ == \"__main__\":\n",
        "    \"\"\" Play a single game to the end using UCT for both players. \n",
        "    \"\"\"\n",
        "    p1_wins = 0\n",
        "    p2_wins = 0\n",
        "    no_wins = 0\n",
        "    counter = 0\n",
        "    for x in range(500):\n",
        "        new_row, flag = UCTPlayGame(x,counter)\n",
        "        if (flag == 1):\n",
        "          p1_wins = p1_wins + 1\n",
        "        elif(flag == 2):\n",
        "          p2_wins = p2_wins + 1\n",
        "        elif (flag == 0):\n",
        "          no_wins = no_wins + 1\n",
        "        counter = new_row\n",
        "    print(\"Player 1 won\", p1_wins, \"times\")\n",
        "    print(\"Player 2 won\", p2_wins, \"times\")\n",
        "    print(\"Number of draws:\", no_wins)\n",
        "\n",
        "    #Write dataframe in csv file\n",
        "    df8.to_csv(r'OXO_8.csv',index = None, header=True)"
      ],
      "execution_count": 69,
      "outputs": [
        {
          "output_type": "stream",
          "text": [
            "Player 1 won 78 times\n",
            "Player 2 won 7 times\n",
            "Number of draws: 415\n"
          ],
          "name": "stdout"
        }
      ]
    },
    {
      "cell_type": "code",
      "metadata": {
        "id": "5hxLdVw1va9O",
        "colab_type": "code",
        "colab": {}
      },
      "source": [
        "#Write dataframe in csv file\n",
        "df8.to_csv(r'OXO_8.csv',index = None, header=True)"
      ],
      "execution_count": 0,
      "outputs": []
    },
    {
      "cell_type": "code",
      "metadata": {
        "id": "bdipKQ7_vQrz",
        "colab_type": "code",
        "colab": {
          "base_uri": "https://localhost:8080/",
          "height": 118
        },
        "outputId": "0e5ef0d5-0828-4c27-f293-6bbe82f9dfec"
      },
      "source": [
        "#Decision Tree Classifier after 3 iterations\n",
        "model_8 = tree.DecisionTreeClassifier()\n",
        "inputs_8 = df8.drop(['Move_NP', 'Game No.', 'Past_Player', 'New_Player'], axis='columns')\n",
        "target_8 = df8['Move_NP']\n",
        "target_8 = target_8.astype('int')\n",
        "\n",
        "model_8.fit(inputs_8, target_8)"
      ],
      "execution_count": 73,
      "outputs": [
        {
          "output_type": "execute_result",
          "data": {
            "text/plain": [
              "DecisionTreeClassifier(ccp_alpha=0.0, class_weight=None, criterion='gini',\n",
              "                       max_depth=None, max_features=None, max_leaf_nodes=None,\n",
              "                       min_impurity_decrease=0.0, min_impurity_split=None,\n",
              "                       min_samples_leaf=1, min_samples_split=2,\n",
              "                       min_weight_fraction_leaf=0.0, presort='deprecated',\n",
              "                       random_state=None, splitter='best')"
            ]
          },
          "metadata": {
            "tags": []
          },
          "execution_count": 73
        }
      ]
    },
    {
      "cell_type": "markdown",
      "metadata": {
        "id": "zNRm0PNcv0Uw",
        "colab_type": "text"
      },
      "source": [
        "#Ninth Data Collection"
      ]
    },
    {
      "cell_type": "code",
      "metadata": {
        "id": "nBoF_YQ9v22j",
        "colab_type": "code",
        "colab": {
          "base_uri": "https://localhost:8080/",
          "height": 67
        },
        "outputId": "6990b24c-b9b3-4f9e-df61-aae56e68ea24"
      },
      "source": [
        "df9 = pd.DataFrame(columns=['Game No.','Past_Player','New_Player','Move_NP'])\n",
        "\n",
        "def UCT(selector, rootstate, itermax, verbose = False):\n",
        "    \"\"\" Conduct a UCT search for itermax iterations starting from rootstate.\n",
        "        Return the best move from the rootstate.\n",
        "        Assumes 2 alternating players (player 1 starts), with game results in the range [0.0, 1.0].\"\"\"\n",
        "\n",
        "    rootnode = Node(state = rootstate)\n",
        "\n",
        "    for i in range(itermax):\n",
        "        node = rootnode\n",
        "        state = rootstate.Clone()\n",
        "\n",
        "        # Select\n",
        "        while node.untriedMoves == [] and node.childNodes != []: # node is fully expanded and non-terminal\n",
        "            node = node.UCTSelectChild()\n",
        "            state.DoMove(node.move)\n",
        "\n",
        "        # Expand\n",
        "        if node.untriedMoves != []:  # if we can expand (i.e. state/node is non-terminal)\n",
        "            m = random.choice(node.untriedMoves) \n",
        "            state.DoMove(m)\n",
        "            node = node.AddChild(m, state)  # add child and descend tree\n",
        "\n",
        "        # Rollout - this can often be made orders of magnitude quicker using a state.GetRandomMove() function\n",
        "        while state.GetMoves() != []: # while state is non-terminal\n",
        "            #print(\"Moves\", state.GetMoves())\n",
        "            if(selector <= 8):\n",
        "              board_re = np.reshape(state.board,(-1,9))\n",
        "              #print(board_re)\n",
        "              # Emulate do-while to continue predicting if the answer is not within the possible moves\n",
        "              #while True:\n",
        "              prediction = model_8.predict(board_re)\n",
        "              pred = prediction.astype(np.int64)\n",
        "              #print(pred[0])\n",
        "                #if (pred[0] in state.GetMoves()):\n",
        "                  #break;\n",
        "              #print(prediction)\n",
        "\n",
        "              #print(type(pred[0]))\n",
        "              if (pred[0] in state.GetMoves()):\n",
        "                state.DoMove(pred[0])\n",
        "              else:\n",
        "                state.DoMove(random.choice(state.GetMoves()))\n",
        "            else:\n",
        "            #print(type(random.choice(state.GetMoves)))\n",
        "              state.DoMove(random.choice(state.GetMoves()))\n",
        "\n",
        "        # Backpropagate\n",
        "        while node != None: # backpropagate from the expanded node and work back to the root node\n",
        "            node.Update(state.GetResult(node.playerJustMoved)) # state is terminal. Update node with result from POV of node.playerJustMoved\n",
        "            node = node.parentNode\n",
        "\n",
        "    # Output some information about the tree - can be omitted\n",
        "    #if verbose: print(rootnode.TreeToString(0))\n",
        "    #else: print(rootnode.ChildrenToString())\n",
        "\n",
        "    return sorted(rootnode.childNodes, key = lambda c: c.visits)[-1].move # return the move that was most visited\n",
        "                \n",
        "def UCTPlayGame(x, counter):\n",
        "    \"\"\" Play a sample game between two UCT players where each player gets a different number \n",
        "        of UCT iterations (= simulations = tree nodes).\n",
        "    \"\"\"\n",
        "    state = OXOState() # uncomment to play OXO\n",
        "    while state.GetMoves() != []:\n",
        "        #print(str(state))\n",
        "        for i in range (9):\n",
        "          df9.loc[counter,i] = state.board[i]  \n",
        "\n",
        "        randomSel = random.randint(0,9)   \n",
        "        if state.playerJustMoved == 1:\n",
        "            m = UCT(selector=randomSel, rootstate=state, itermax=1000, verbose=False)  # play with values for itermax and verbose = True\n",
        "        else:\n",
        "            m = UCT(selector=randomSel, rootstate=state, itermax=100, verbose=False)\n",
        "        #print(\"Best Move: \" + str(m) + \"\\n\")\n",
        "        df9.loc[counter,'Move_NP'] = m                                 #Prints the best move\n",
        "        df9.loc[counter,'Past_Player'] = state.playerJustMoved         #Prints the player that made the last move\n",
        "        df9.loc[counter,'New_Player'] = 3 - state.playerJustMoved      #Prints the player thai is about to play the 'best move'\n",
        "        df9.loc[counter,'Game No.'] = x + 1                            #Pints the numer of game\n",
        "        counter += 1\n",
        "        #print(\"Game no. \", x)\n",
        "        state.DoMove(m)\n",
        "        if state.GetResult(state.playerJustMoved) != False:\n",
        "            #print(str(state))\n",
        "            break\n",
        "    if state.GetResult(state.playerJustMoved) == 1.0:\n",
        "        flag = state.playerJustMoved\n",
        "        #print(\"Player \" + str(state.playerJustMoved) + \" wins!\")\n",
        "    elif state.GetResult(state.playerJustMoved) == 0.0:\n",
        "        #print(\"Player \" + str(3 - state.playerJustMoved) + \" wins!\")\n",
        "        flag = 3 - state.playerJustMoved\n",
        "    else: \n",
        "        #print(\"Nobody wins!\")\n",
        "        flag = 0\n",
        "    return counter, flag\n",
        "if __name__ == \"__main__\":\n",
        "    \"\"\" Play a single game to the end using UCT for both players. \n",
        "    \"\"\"\n",
        "    p1_wins = 0\n",
        "    p2_wins = 0\n",
        "    no_wins = 0\n",
        "    counter = 0\n",
        "    for x in range(500):\n",
        "        new_row, flag = UCTPlayGame(x,counter)\n",
        "        if (flag == 1):\n",
        "          p1_wins = p1_wins + 1\n",
        "        elif(flag == 2):\n",
        "          p2_wins = p2_wins + 1\n",
        "        elif (flag == 0):\n",
        "          no_wins = no_wins + 1\n",
        "        counter = new_row\n",
        "    print(\"Player 1 won\", p1_wins, \"times\")\n",
        "    print(\"Player 2 won\", p2_wins, \"times\")\n",
        "    print(\"Number of draws:\", no_wins)\n",
        "\n",
        "    #Write dataframe in csv file\n",
        "    df9.to_csv(r'OXO_9.csv',index = None, header=True)"
      ],
      "execution_count": 77,
      "outputs": [
        {
          "output_type": "stream",
          "text": [
            "Player 1 won 10 times\n",
            "Player 2 won 5 times\n",
            "Number of draws: 485\n"
          ],
          "name": "stdout"
        }
      ]
    },
    {
      "cell_type": "code",
      "metadata": {
        "id": "rRyTpeBDwEo0",
        "colab_type": "code",
        "colab": {
          "base_uri": "https://localhost:8080/",
          "height": 118
        },
        "outputId": "d4c95b62-b01a-48f2-f11c-58aeb348c97f"
      },
      "source": [
        "#Decision Tree Classifier after 3 iterations\n",
        "model_9 = tree.DecisionTreeClassifier()\n",
        "inputs_9 = df9.drop(['Move_NP', 'Game No.', 'Past_Player', 'New_Player'], axis='columns')\n",
        "target_9 = df9['Move_NP']\n",
        "target_9 = target_9.astype('int')\n",
        "\n",
        "model_9.fit(inputs_9, target_9)"
      ],
      "execution_count": 78,
      "outputs": [
        {
          "output_type": "execute_result",
          "data": {
            "text/plain": [
              "DecisionTreeClassifier(ccp_alpha=0.0, class_weight=None, criterion='gini',\n",
              "                       max_depth=None, max_features=None, max_leaf_nodes=None,\n",
              "                       min_impurity_decrease=0.0, min_impurity_split=None,\n",
              "                       min_samples_leaf=1, min_samples_split=2,\n",
              "                       min_weight_fraction_leaf=0.0, presort='deprecated',\n",
              "                       random_state=None, splitter='best')"
            ]
          },
          "metadata": {
            "tags": []
          },
          "execution_count": 78
        }
      ]
    },
    {
      "cell_type": "markdown",
      "metadata": {
        "id": "0bBCsjLPwLjE",
        "colab_type": "text"
      },
      "source": [
        "#Tenth Model"
      ]
    },
    {
      "cell_type": "code",
      "metadata": {
        "id": "SMAglWElwOaW",
        "colab_type": "code",
        "colab": {
          "base_uri": "https://localhost:8080/",
          "height": 67
        },
        "outputId": "a42a0b8d-8a6b-403a-b3fa-29f4d7d11f1b"
      },
      "source": [
        "df10 = pd.DataFrame(columns=['Game No.','Past_Player','New_Player','Move_NP'])\n",
        "\n",
        "def UCT(selector, rootstate, itermax, verbose = False):\n",
        "    \"\"\" Conduct a UCT search for itermax iterations starting from rootstate.\n",
        "        Return the best move from the rootstate.\n",
        "        Assumes 2 alternating players (player 1 starts), with game results in the range [0.0, 1.0].\"\"\"\n",
        "\n",
        "    rootnode = Node(state = rootstate)\n",
        "\n",
        "    for i in range(itermax):\n",
        "        node = rootnode\n",
        "        state = rootstate.Clone()\n",
        "\n",
        "        # Select\n",
        "        while node.untriedMoves == [] and node.childNodes != []: # node is fully expanded and non-terminal\n",
        "            node = node.UCTSelectChild()\n",
        "            state.DoMove(node.move)\n",
        "\n",
        "        # Expand\n",
        "        if node.untriedMoves != []:  # if we can expand (i.e. state/node is non-terminal)\n",
        "            m = random.choice(node.untriedMoves) \n",
        "            state.DoMove(m)\n",
        "            node = node.AddChild(m, state)  # add child and descend tree\n",
        "\n",
        "        # Rollout - this can often be made orders of magnitude quicker using a state.GetRandomMove() function\n",
        "        while state.GetMoves() != []: # while state is non-terminal\n",
        "            #print(\"Moves\", state.GetMoves())\n",
        "            if(selector <= 8):\n",
        "              board_re = np.reshape(state.board,(-1,9))\n",
        "              #print(board_re)\n",
        "              # Emulate do-while to continue predicting if the answer is not within the possible moves\n",
        "              #while True:\n",
        "              prediction = model_9.predict(board_re)\n",
        "              pred = prediction.astype(np.int64)\n",
        "              #print(pred[0])\n",
        "                #if (pred[0] in state.GetMoves()):\n",
        "                  #break;\n",
        "              #print(prediction)\n",
        "\n",
        "              #print(type(pred[0]))\n",
        "              if (pred[0] in state.GetMoves()):\n",
        "                state.DoMove(pred[0])\n",
        "              else:\n",
        "                state.DoMove(random.choice(state.GetMoves()))\n",
        "            else:\n",
        "            #print(type(random.choice(state.GetMoves)))\n",
        "              state.DoMove(random.choice(state.GetMoves()))\n",
        "\n",
        "        # Backpropagate\n",
        "        while node != None: # backpropagate from the expanded node and work back to the root node\n",
        "            node.Update(state.GetResult(node.playerJustMoved)) # state is terminal. Update node with result from POV of node.playerJustMoved\n",
        "            node = node.parentNode\n",
        "\n",
        "    # Output some information about the tree - can be omitted\n",
        "    #if verbose: print(rootnode.TreeToString(0))\n",
        "    #else: print(rootnode.ChildrenToString())\n",
        "\n",
        "    return sorted(rootnode.childNodes, key = lambda c: c.visits)[-1].move # return the move that was most visited\n",
        "                \n",
        "def UCTPlayGame(x, counter):\n",
        "    \"\"\" Play a sample game between two UCT players where each player gets a different number \n",
        "        of UCT iterations (= simulations = tree nodes).\n",
        "    \"\"\"\n",
        "    state = OXOState() # uncomment to play OXO\n",
        "    while state.GetMoves() != []:\n",
        "        #print(str(state))\n",
        "        for i in range (9):\n",
        "          df10.loc[counter,i] = state.board[i]  \n",
        "\n",
        "        randomSel = random.randint(0,9)   \n",
        "        if state.playerJustMoved == 1:\n",
        "            m = UCT(selector=randomSel, rootstate=state, itermax=1000, verbose=False)  # play with values for itermax and verbose = True\n",
        "        else:\n",
        "            m = UCT(selector=randomSel, rootstate=state, itermax=100, verbose=False)\n",
        "        #print(\"Best Move: \" + str(m) + \"\\n\")\n",
        "        df10.loc[counter,'Move_NP'] = m                                 #Prints the best move\n",
        "        df10.loc[counter,'Past_Player'] = state.playerJustMoved         #Prints the player that made the last move\n",
        "        df10.loc[counter,'New_Player'] = 3 - state.playerJustMoved      #Prints the player thai is about to play the 'best move'\n",
        "        df10.loc[counter,'Game No.'] = x + 1                            #Pints the numer of game\n",
        "        counter += 1\n",
        "        #print(\"Game no. \", x)\n",
        "        state.DoMove(m)\n",
        "        if state.GetResult(state.playerJustMoved) != False:\n",
        "            #print(str(state))\n",
        "            break\n",
        "    if state.GetResult(state.playerJustMoved) == 1.0:\n",
        "        flag = state.playerJustMoved\n",
        "        #print(\"Player \" + str(state.playerJustMoved) + \" wins!\")\n",
        "    elif state.GetResult(state.playerJustMoved) == 0.0:\n",
        "        #print(\"Player \" + str(3 - state.playerJustMoved) + \" wins!\")\n",
        "        flag = 3 - state.playerJustMoved\n",
        "    else: \n",
        "        #print(\"Nobody wins!\")\n",
        "        flag = 0\n",
        "    return counter, flag\n",
        "if __name__ == \"__main__\":\n",
        "    \"\"\" Play a single game to the end using UCT for both players. \n",
        "    \"\"\"\n",
        "    p1_wins = 0\n",
        "    p2_wins = 0\n",
        "    no_wins = 0\n",
        "    counter = 0\n",
        "    for x in range(500):\n",
        "        new_row, flag = UCTPlayGame(x,counter)\n",
        "        if (flag == 1):\n",
        "          p1_wins = p1_wins + 1\n",
        "        elif(flag == 2):\n",
        "          p2_wins = p2_wins + 1\n",
        "        elif (flag == 0):\n",
        "          no_wins = no_wins + 1\n",
        "        counter = new_row\n",
        "    print(\"Player 1 won\", p1_wins, \"times\")\n",
        "    print(\"Player 2 won\", p2_wins, \"times\")\n",
        "    print(\"Number of draws:\", no_wins)"
      ],
      "execution_count": 79,
      "outputs": [
        {
          "output_type": "stream",
          "text": [
            "Player 1 won 19 times\n",
            "Player 2 won 43 times\n",
            "Number of draws: 438\n"
          ],
          "name": "stdout"
        }
      ]
    },
    {
      "cell_type": "code",
      "metadata": {
        "id": "6-Ja9qV22_lz",
        "colab_type": "code",
        "colab": {}
      },
      "source": [
        "#Write dataframe in csv file\n",
        "df10.to_csv(r'OXO_10.csv',index = None, header=True)"
      ],
      "execution_count": 0,
      "outputs": []
    },
    {
      "cell_type": "code",
      "metadata": {
        "id": "1nAKJgtTwewF",
        "colab_type": "code",
        "colab": {
          "base_uri": "https://localhost:8080/",
          "height": 118
        },
        "outputId": "b3fbf612-877d-4148-8f37-d39a1b303d61"
      },
      "source": [
        "#Decision Tree Classifier after 3 iterations\n",
        "model_10 = tree.DecisionTreeClassifier()\n",
        "inputs_10 = df10.drop(['Move_NP', 'Game No.', 'Past_Player', 'New_Player'], axis='columns')\n",
        "target_10 = df10['Move_NP']\n",
        "target_10 = target_10.astype('int')\n",
        "\n",
        "model_10.fit(inputs_10, target_10)"
      ],
      "execution_count": 80,
      "outputs": [
        {
          "output_type": "execute_result",
          "data": {
            "text/plain": [
              "DecisionTreeClassifier(ccp_alpha=0.0, class_weight=None, criterion='gini',\n",
              "                       max_depth=None, max_features=None, max_leaf_nodes=None,\n",
              "                       min_impurity_decrease=0.0, min_impurity_split=None,\n",
              "                       min_samples_leaf=1, min_samples_split=2,\n",
              "                       min_weight_fraction_leaf=0.0, presort='deprecated',\n",
              "                       random_state=None, splitter='best')"
            ]
          },
          "metadata": {
            "tags": []
          },
          "execution_count": 80
        }
      ]
    },
    {
      "cell_type": "markdown",
      "metadata": {
        "id": "1c8MMcjh0yJf",
        "colab_type": "text"
      },
      "source": [
        "#Eleventh Model"
      ]
    },
    {
      "cell_type": "code",
      "metadata": {
        "id": "UrZE6NbV00fM",
        "colab_type": "code",
        "colab": {
          "base_uri": "https://localhost:8080/",
          "height": 67
        },
        "outputId": "05196fa3-4aa3-475c-809e-013cb6d9bda4"
      },
      "source": [
        "df11 = pd.DataFrame(columns=['Game No.','Past_Player','New_Player','Move_NP'])\n",
        "\n",
        "def UCT(selector, rootstate, itermax, verbose = False):\n",
        "    \"\"\" Conduct a UCT search for itermax iterations starting from rootstate.\n",
        "        Return the best move from the rootstate.\n",
        "        Assumes 2 alternating players (player 1 starts), with game results in the range [0.0, 1.0].\"\"\"\n",
        "\n",
        "    rootnode = Node(state = rootstate)\n",
        "\n",
        "    for i in range(itermax):\n",
        "        node = rootnode\n",
        "        state = rootstate.Clone()\n",
        "\n",
        "        # Select\n",
        "        while node.untriedMoves == [] and node.childNodes != []: # node is fully expanded and non-terminal\n",
        "            node = node.UCTSelectChild()\n",
        "            state.DoMove(node.move)\n",
        "\n",
        "        # Expand\n",
        "        if node.untriedMoves != []:  # if we can expand (i.e. state/node is non-terminal)\n",
        "            m = random.choice(node.untriedMoves) \n",
        "            state.DoMove(m)\n",
        "            node = node.AddChild(m, state)  # add child and descend tree\n",
        "\n",
        "        # Rollout - this can often be made orders of magnitude quicker using a state.GetRandomMove() function\n",
        "        while state.GetMoves() != []: # while state is non-terminal\n",
        "            #print(\"Moves\", state.GetMoves())\n",
        "            if(selector <= 8):\n",
        "              board_re = np.reshape(state.board,(-1,9))\n",
        "              #print(board_re)\n",
        "              # Emulate do-while to continue predicting if the answer is not within the possible moves\n",
        "              #while True:\n",
        "              prediction = model_10.predict(board_re)\n",
        "              pred = prediction.astype(np.int64)\n",
        "              #print(pred[0])\n",
        "                #if (pred[0] in state.GetMoves()):\n",
        "                  #break;\n",
        "              #print(prediction)\n",
        "\n",
        "              #print(type(pred[0]))\n",
        "              if (pred[0] in state.GetMoves()):\n",
        "                state.DoMove(pred[0])\n",
        "              else:\n",
        "                state.DoMove(random.choice(state.GetMoves()))\n",
        "            else:\n",
        "            #print(type(random.choice(state.GetMoves)))\n",
        "              state.DoMove(random.choice(state.GetMoves()))\n",
        "\n",
        "        # Backpropagate\n",
        "        while node != None: # backpropagate from the expanded node and work back to the root node\n",
        "            node.Update(state.GetResult(node.playerJustMoved)) # state is terminal. Update node with result from POV of node.playerJustMoved\n",
        "            node = node.parentNode\n",
        "\n",
        "    # Output some information about the tree - can be omitted\n",
        "    #if verbose: print(rootnode.TreeToString(0))\n",
        "    #else: print(rootnode.ChildrenToString())\n",
        "\n",
        "    return sorted(rootnode.childNodes, key = lambda c: c.visits)[-1].move # return the move that was most visited\n",
        "                \n",
        "def UCTPlayGame(x, counter):\n",
        "    \"\"\" Play a sample game between two UCT players where each player gets a different number \n",
        "        of UCT iterations (= simulations = tree nodes).\n",
        "    \"\"\"\n",
        "    state = OXOState() # uncomment to play OXO\n",
        "    while state.GetMoves() != []:\n",
        "        #print(str(state))\n",
        "        for i in range (9):\n",
        "          df11.loc[counter,i] = state.board[i]  \n",
        "\n",
        "        randomSel = random.randint(0,9)   \n",
        "        if state.playerJustMoved == 1:\n",
        "            m = UCT(selector=randomSel, rootstate=state, itermax=1000, verbose=False)  # play with values for itermax and verbose = True\n",
        "        else:\n",
        "            m = UCT(selector=randomSel, rootstate=state, itermax=100, verbose=False)\n",
        "        #print(\"Best Move: \" + str(m) + \"\\n\")\n",
        "        df11.loc[counter,'Move_NP'] = m                                 #Prints the best move\n",
        "        df11.loc[counter,'Past_Player'] = state.playerJustMoved         #Prints the player that made the last move\n",
        "        df11.loc[counter,'New_Player'] = 3 - state.playerJustMoved      #Prints the player thai is about to play the 'best move'\n",
        "        df11.loc[counter,'Game No.'] = x + 1                            #Pints the numer of game\n",
        "        counter += 1\n",
        "        #print(\"Game no. \", x)\n",
        "        state.DoMove(m)\n",
        "        if state.GetResult(state.playerJustMoved) != False:\n",
        "            #print(str(state))\n",
        "            break\n",
        "    if state.GetResult(state.playerJustMoved) == 1.0:\n",
        "        flag = state.playerJustMoved\n",
        "        #print(\"Player \" + str(state.playerJustMoved) + \" wins!\")\n",
        "    elif state.GetResult(state.playerJustMoved) == 0.0:\n",
        "        #print(\"Player \" + str(3 - state.playerJustMoved) + \" wins!\")\n",
        "        flag = 3 - state.playerJustMoved\n",
        "    else: \n",
        "        #print(\"Nobody wins!\")\n",
        "        flag = 0\n",
        "    return counter, flag\n",
        "if __name__ == \"__main__\":\n",
        "    \"\"\" Play a single game to the end using UCT for both players. \n",
        "    \"\"\"\n",
        "    p1_wins = 0\n",
        "    p2_wins = 0\n",
        "    no_wins = 0\n",
        "    counter = 0\n",
        "    for x in range(500):\n",
        "        new_row, flag = UCTPlayGame(x,counter)\n",
        "        if (flag == 1):\n",
        "          p1_wins = p1_wins + 1\n",
        "        elif(flag == 2):\n",
        "          p2_wins = p2_wins + 1\n",
        "        elif (flag == 0):\n",
        "          no_wins = no_wins + 1\n",
        "        counter = new_row\n",
        "    print(\"Player 1 won\", p1_wins, \"times\")\n",
        "    print(\"Player 2 won\", p2_wins, \"times\")\n",
        "    print(\"Number of draws:\", no_wins)"
      ],
      "execution_count": 81,
      "outputs": [
        {
          "output_type": "stream",
          "text": [
            "Player 1 won 4 times\n",
            "Player 2 won 20 times\n",
            "Number of draws: 476\n"
          ],
          "name": "stdout"
        }
      ]
    },
    {
      "cell_type": "code",
      "metadata": {
        "id": "_uG-kMVQ27fK",
        "colab_type": "code",
        "colab": {}
      },
      "source": [
        "#Write dataframe in csv file\n",
        "df11.to_csv(r'OXO_11.csv',index = None, header=True)"
      ],
      "execution_count": 0,
      "outputs": []
    },
    {
      "cell_type": "code",
      "metadata": {
        "id": "hFMBB0RY1F8h",
        "colab_type": "code",
        "colab": {
          "base_uri": "https://localhost:8080/",
          "height": 118
        },
        "outputId": "f814ebf2-303b-47d5-d697-ea96a51f15b7"
      },
      "source": [
        "#Decision Tree Classifier after 3 iterations\n",
        "model_11 = tree.DecisionTreeClassifier()\n",
        "inputs_11 = df11.drop(['Move_NP', 'Game No.', 'Past_Player', 'New_Player'], axis='columns')\n",
        "target_11 = df11['Move_NP']\n",
        "target_11 = target_11.astype('int')\n",
        "\n",
        "model_11.fit(inputs_11, target_11)"
      ],
      "execution_count": 85,
      "outputs": [
        {
          "output_type": "execute_result",
          "data": {
            "text/plain": [
              "DecisionTreeClassifier(ccp_alpha=0.0, class_weight=None, criterion='gini',\n",
              "                       max_depth=None, max_features=None, max_leaf_nodes=None,\n",
              "                       min_impurity_decrease=0.0, min_impurity_split=None,\n",
              "                       min_samples_leaf=1, min_samples_split=2,\n",
              "                       min_weight_fraction_leaf=0.0, presort='deprecated',\n",
              "                       random_state=None, splitter='best')"
            ]
          },
          "metadata": {
            "tags": []
          },
          "execution_count": 85
        }
      ]
    },
    {
      "cell_type": "markdown",
      "metadata": {
        "id": "rTPS7SD03Tup",
        "colab_type": "text"
      },
      "source": [
        "#First Evaluation\n",
        "Agent 11 vs the past 10 agents"
      ]
    },
    {
      "cell_type": "code",
      "metadata": {
        "id": "xGUOvIHM3aY-",
        "colab_type": "code",
        "colab": {}
      },
      "source": [
        "df11 = pd.DataFrame(columns=['Game No.','Past_Player','New_Player','Move_NP'])\n",
        "\n",
        "def UCT(selector, rootstate, itermax, verbose = False):\n",
        "    \"\"\" Conduct a UCT search for itermax iterations starting from rootstate.\n",
        "        Return the best move from the rootstate.\n",
        "        Assumes 2 alternating players (player 1 starts), with game results in the range [0.0, 1.0].\"\"\"\n",
        "\n",
        "    rootnode = Node(state = rootstate)\n",
        "\n",
        "    for i in range(itermax):\n",
        "        node = rootnode\n",
        "        state = rootstate.Clone()\n",
        "\n",
        "        # Select\n",
        "        while node.untriedMoves == [] and node.childNodes != []: # node is fully expanded and non-terminal\n",
        "            node = node.UCTSelectChild()\n",
        "            state.DoMove(node.move)\n",
        "\n",
        "        # Expand\n",
        "        if node.untriedMoves != []:  # if we can expand (i.e. state/node is non-terminal)\n",
        "            m = random.choice(node.untriedMoves) \n",
        "            state.DoMove(m)\n",
        "            node = node.AddChild(m, state)  # add child and descend tree\n",
        "\n",
        "        # Rollout - this can often be made orders of magnitude quicker using a state.GetRandomMove() function\n",
        "        while state.GetMoves() != []: # while state is non-terminal\n",
        "            #print(\"Moves\", state.GetMoves())\n",
        "            if(selector <= 8):\n",
        "              board_re = np.reshape(state.board,(-1,9))\n",
        "              #print(board_re)\n",
        "              # Emulate do-while to continue predicting if the answer is not within the possible moves\n",
        "              #while True:\n",
        "              prediction = model_10.predict(board_re)\n",
        "              pred = prediction.astype(np.int64)\n",
        "              #print(pred[0])\n",
        "                #if (pred[0] in state.GetMoves()):\n",
        "                  #break;\n",
        "              #print(prediction)\n",
        "\n",
        "              #print(type(pred[0]))\n",
        "              if (pred[0] in state.GetMoves()):\n",
        "                state.DoMove(pred[0])\n",
        "              else:\n",
        "                state.DoMove(random.choice(state.GetMoves()))\n",
        "            else:\n",
        "            #print(type(random.choice(state.GetMoves)))\n",
        "              state.DoMove(random.choice(state.GetMoves()))\n",
        "\n",
        "        # Backpropagate\n",
        "        while node != None: # backpropagate from the expanded node and work back to the root node\n",
        "            node.Update(state.GetResult(node.playerJustMoved)) # state is terminal. Update node with result from POV of node.playerJustMoved\n",
        "            node = node.parentNode\n",
        "\n",
        "    # Output some information about the tree - can be omitted\n",
        "    #if verbose: print(rootnode.TreeToString(0))\n",
        "    #else: print(rootnode.ChildrenToString())\n",
        "\n",
        "    return sorted(rootnode.childNodes, key = lambda c: c.visits)[-1].move # return the move that was most visited\n",
        "                \n",
        "def UCTPlayGame(x, counter):\n",
        "    \"\"\" Play a sample game between two UCT players where each player gets a different number \n",
        "        of UCT iterations (= simulations = tree nodes).\n",
        "    \"\"\"\n",
        "    state = OXOState() # uncomment to play OXO\n",
        "    while state.GetMoves() != []:\n",
        "        #print(str(state))\n",
        "        for i in range (9):\n",
        "          df11.loc[counter,i] = state.board[i]  \n",
        "\n",
        "        randomSel = random.randint(0,9)   \n",
        "        if state.playerJustMoved == 1:\n",
        "            m = UCT(selector=randomSel, rootstate=state, itermax=1000, verbose=False)  # play with values for itermax and verbose = True\n",
        "        else:\n",
        "            m = UCT(selector=randomSel, rootstate=state, itermax=100, verbose=False)\n",
        "        #print(\"Best Move: \" + str(m) + \"\\n\")\n",
        "        df11.loc[counter,'Move_NP'] = m                                 #Prints the best move\n",
        "        df11.loc[counter,'Past_Player'] = state.playerJustMoved         #Prints the player that made the last move\n",
        "        df11.loc[counter,'New_Player'] = 3 - state.playerJustMoved      #Prints the player thai is about to play the 'best move'\n",
        "        df11.loc[counter,'Game No.'] = x + 1                            #Pints the numer of game\n",
        "        counter += 1\n",
        "        #print(\"Game no. \", x)\n",
        "        state.DoMove(m)\n",
        "        if state.GetResult(state.playerJustMoved) != False:\n",
        "            #print(str(state))\n",
        "            break\n",
        "    if state.GetResult(state.playerJustMoved) == 1.0:\n",
        "        flag = state.playerJustMoved\n",
        "        #print(\"Player \" + str(state.playerJustMoved) + \" wins!\")\n",
        "    elif state.GetResult(state.playerJustMoved) == 0.0:\n",
        "        #print(\"Player \" + str(3 - state.playerJustMoved) + \" wins!\")\n",
        "        flag = 3 - state.playerJustMoved\n",
        "    else: \n",
        "        #print(\"Nobody wins!\")\n",
        "        flag = 0\n",
        "    return counter, flag\n",
        "if __name__ == \"__main__\":\n",
        "    \"\"\" Play a single game to the end using UCT for both players. \n",
        "    \"\"\"\n",
        "    p1_wins = 0\n",
        "    p2_wins = 0\n",
        "    no_wins = 0\n",
        "    counter = 0\n",
        "    for x in range(500):\n",
        "        new_row, flag = UCTPlayGame(x,counter)\n",
        "        if (flag == 1):\n",
        "          p1_wins = p1_wins + 1\n",
        "        elif(flag == 2):\n",
        "          p2_wins = p2_wins + 1\n",
        "        elif (flag == 0):\n",
        "          no_wins = no_wins + 1\n",
        "        counter = new_row\n",
        "    print(\"Player 1 won\", p1_wins, \"times\")\n",
        "    print(\"Player 2 won\", p2_wins, \"times\")\n",
        "    print(\"Number of draws:\", no_wins)"
      ],
      "execution_count": 0,
      "outputs": []
    }
  ]
}
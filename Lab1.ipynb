{
  "nbformat": 4,
  "nbformat_minor": 0,
  "metadata": {
    "colab": {
      "name": "Lab1.ipynb",
      "provenance": [],
      "authorship_tag": "ABX9TyMSugBuR3rq5zMthmDxqieE",
      "include_colab_link": true
    },
    "kernelspec": {
      "name": "python3",
      "display_name": "Python 3"
    },
    "accelerator": "GPU"
  },
  "cells": [
    {
      "cell_type": "markdown",
      "metadata": {
        "id": "view-in-github",
        "colab_type": "text"
      },
      "source": [
        "<a href=\"https://colab.research.google.com/github/Isamaoz/CE888---Data-Science-and-Decision-Making/blob/master/Lab1.ipynb\" target=\"_parent\"><img src=\"https://colab.research.google.com/assets/colab-badge.svg\" alt=\"Open In Colab\"/></a>"
      ]
    },
    {
      "cell_type": "markdown",
      "metadata": {
        "id": "t9MHoaR_z8Ny",
        "colab_type": "text"
      },
      "source": [
        "#FIRST LABORATORY\n",
        "##Isamiri Ortiz Blanco\n"
      ]
    },
    {
      "cell_type": "markdown",
      "metadata": {
        "id": "6X-TO_KR1mjo",
        "colab_type": "text"
      },
      "source": [
        "## Questions to be done during the lab:\n",
        "\n",
        "1. Create a (4 x 2) integer array and print it's attributes\n",
        "\n",
        "2. Create an array of dimension (1,10) and sort it in ascending and descending order\n",
        "\n",
        "3. Convert an 1D array [1 2 3 4 5 6 7 8 9] to 2D array [[1 2 3], [4 5 6], [7 8 9]]\n",
        "\n",
        "4. Stack two arrays of any size horizontally and vertically\n",
        "\n",
        "5. Create two array of same size and find commom elements\n",
        "\n",
        "6. Create a 2D array of 5 by 5 and find the min and max values from each row and each column\n",
        "\n",
        "7. Create an array of size 100 and  compute the mean, median, standard deviation. \n",
        "\n",
        "8. Normalize a 5x5 random matrix \n",
        "\n",
        "9. Consider an array of dimension (4,4,3), how to mulitply it by an array with dimensions (4,4)?\n",
        "\n"
      ]
    },
    {
      "cell_type": "code",
      "metadata": {
        "id": "Rk2fxQoX2qOf",
        "colab_type": "code",
        "colab": {
          "base_uri": "https://localhost:8080/",
          "height": 85
        },
        "outputId": "2a23f021-2b2d-48fe-9f35-04f71805910f"
      },
      "source": [
        "# 1. 4x2 integer array\n",
        "a = np.array([[0, 1],\n",
        "              [2, 3],\n",
        "              [4, 5],\n",
        "              [6, 7]])\n",
        "print(a)"
      ],
      "execution_count": 15,
      "outputs": [
        {
          "output_type": "stream",
          "text": [
            "[[0 1]\n",
            " [2 3]\n",
            " [4 5]\n",
            " [6 7]]\n"
          ],
          "name": "stdout"
        }
      ]
    },
    {
      "cell_type": "code",
      "metadata": {
        "id": "vRWGE-P43n1z",
        "colab_type": "code",
        "colab": {
          "base_uri": "https://localhost:8080/",
          "height": 34
        },
        "outputId": "ba8b013b-68be-4b2a-f86c-47a18e6f529e"
      },
      "source": [
        "print(a.shape)"
      ],
      "execution_count": 16,
      "outputs": [
        {
          "output_type": "stream",
          "text": [
            "(4, 2)\n"
          ],
          "name": "stdout"
        }
      ]
    },
    {
      "cell_type": "code",
      "metadata": {
        "id": "K_8n9JUr3PkH",
        "colab_type": "code",
        "colab": {
          "base_uri": "https://localhost:8080/",
          "height": 85
        },
        "outputId": "5d0c5377-0d6b-437a-c6be-e7ba4d41c82d"
      },
      "source": [
        "# 2. array of dimension (1,10) \n",
        "b = np.array([5,6,2,7,12,56,3,1,9,8])\n",
        "print(\"Sorting in ascending order:\")\n",
        "print(np.sort(b))\n",
        "print(\"Sorting in descending order:\")\n",
        "print(-np.sort(-b))\n"
      ],
      "execution_count": 22,
      "outputs": [
        {
          "output_type": "stream",
          "text": [
            "Sorting in ascending order:\n",
            "[ 1  2  3  5  6  7  8  9 12 56]\n",
            "Sorting in descending order:\n",
            "[56 12  9  8  7  6  5  3  2  1]\n"
          ],
          "name": "stdout"
        }
      ]
    },
    {
      "cell_type": "code",
      "metadata": {
        "id": "FNkvdSOD5MAf",
        "colab_type": "code",
        "colab": {
          "base_uri": "https://localhost:8080/",
          "height": 85
        },
        "outputId": "3226fba6-9952-494b-a02a-2b94c19775d8"
      },
      "source": [
        "# 3. Convert an 1D array [1 2 3 4 5 6 7 8 9] to 2D array [[1 2 3], [4 5 6], [7 8 9]]\n",
        "c = np.array([1, 2, 3, 4, 5, 6, 7, 8, 9])\n",
        "print(c)\n",
        "c = np.array([c[0:3],\n",
        "              c[3:6],\n",
        "              c[6:9]])\n",
        "print(c)"
      ],
      "execution_count": 29,
      "outputs": [
        {
          "output_type": "stream",
          "text": [
            "[1 2 3 4 5 6 7 8 9]\n",
            "[[1 2 3]\n",
            " [4 5 6]\n",
            " [7 8 9]]\n"
          ],
          "name": "stdout"
        }
      ]
    },
    {
      "cell_type": "code",
      "metadata": {
        "id": "O3Rxf8iR8stQ",
        "colab_type": "code",
        "colab": {
          "base_uri": "https://localhost:8080/",
          "height": 119
        },
        "outputId": "f715cc72-7768-4e01-8776-59d3d128a8ce"
      },
      "source": [
        "# 4. Stack two arrays of any size horizontally and vertically\n",
        "d = np.array([1,2,3,4])\n",
        "e = np.array([5,6,7,8])\n",
        "\n",
        "# Stack horizontally\n",
        "print(np.stack((d,e)))\n",
        "\n",
        "# Stack vertically\n",
        "print(np.stack((d,e), axis=-1))"
      ],
      "execution_count": 39,
      "outputs": [
        {
          "output_type": "stream",
          "text": [
            "[[1 2 3 4]\n",
            " [5 6 7 8]]\n",
            "[[1 5]\n",
            " [2 6]\n",
            " [3 7]\n",
            " [4 8]]\n"
          ],
          "name": "stdout"
        }
      ]
    },
    {
      "cell_type": "code",
      "metadata": {
        "id": "KcINZ_fI8-An",
        "colab_type": "code",
        "colab": {
          "base_uri": "https://localhost:8080/",
          "height": 34
        },
        "outputId": "7e0d974f-db00-41e1-8e5e-80d1ca9b9015"
      },
      "source": [
        "# 5. Create two array of same size and find commom elements\n",
        "f = [1,2,3,9,5]\n",
        "g = [5,7,2,9,10]\n",
        "np.intersect1d(f,g)"
      ],
      "execution_count": 41,
      "outputs": [
        {
          "output_type": "execute_result",
          "data": {
            "text/plain": [
              "array([2, 5, 9])"
            ]
          },
          "metadata": {
            "tags": []
          },
          "execution_count": 41
        }
      ]
    },
    {
      "cell_type": "code",
      "metadata": {
        "id": "M22PNZ7F-_iP",
        "colab_type": "code",
        "colab": {
          "base_uri": "https://localhost:8080/",
          "height": 425
        },
        "outputId": "2675e769-0923-4eb2-bd3c-07f75699f70b"
      },
      "source": [
        "# 6. Create a 2D array of 5 by 5 and find the min and max values from each row and each column\n",
        "x = np.array([[1,2,3,4,5],\n",
        "              [61,87,8,92,10],\n",
        "              [111,2,138,14,15],\n",
        "              [116,57,18,109,20],\n",
        "              [31,2,45,6,0]])\n",
        "#Minimum in rows\n",
        "print(\"Minimum values in rows:\")\n",
        "for y in range(5):\n",
        "  print(np.min(x[y]))\n",
        "print(\"Maximum values in rows:\")  \n",
        "for y in range(5):\n",
        "  print(np.max(x[y]))\n",
        "print(\"Minimum values in columns:\")\n",
        "for y in range(5):\n",
        "  print(np.min(x[:,y]))\n",
        "print(\"Maximum values in columns:\")\n",
        "for y in range(5):\n",
        "  print(np.max(x[:,y]))"
      ],
      "execution_count": 67,
      "outputs": [
        {
          "output_type": "stream",
          "text": [
            "Minimum values in rows:\n",
            "1\n",
            "8\n",
            "2\n",
            "18\n",
            "0\n",
            "Maximum values in rows:\n",
            "5\n",
            "92\n",
            "138\n",
            "116\n",
            "45\n",
            "Minimum values in columns:\n",
            "1\n",
            "2\n",
            "3\n",
            "4\n",
            "0\n",
            "Maximum values in columns:\n",
            "116\n",
            "87\n",
            "138\n",
            "109\n",
            "20\n"
          ],
          "name": "stdout"
        }
      ]
    },
    {
      "cell_type": "code",
      "metadata": {
        "id": "XCaoDwO4_QKo",
        "colab_type": "code",
        "colab": {
          "base_uri": "https://localhost:8080/",
          "height": 408
        },
        "outputId": "52dfecf4-a7e9-41b5-90cb-e15e5552fdc9"
      },
      "source": [
        "# 7. Create an array of size 100 and compute the mean, median, standard deviation.\n",
        "h=np.random.rand(1,100)\n",
        "print(h)\n",
        "print(\"Mean of the array:\")\n",
        "print(np.mean(h))\n",
        "print(\"Median of the array:\")\n",
        "print(np.median(h))\n",
        "print(\"Standard deviation of the array:\")\n",
        "print(np.std(h))"
      ],
      "execution_count": 44,
      "outputs": [
        {
          "output_type": "stream",
          "text": [
            "[[0.25646171 0.26188209 0.59290578 0.7955234  0.32244077 0.98330104\n",
            "  0.88393631 0.89915503 0.73546389 0.84872632 0.60231672 0.78376498\n",
            "  0.51294537 0.94164473 0.21402361 0.38348656 0.39128977 0.64190906\n",
            "  0.61964142 0.65312743 0.0411343  0.77391568 0.45906701 0.69219147\n",
            "  0.74926218 0.00224117 0.20115469 0.11875243 0.66464903 0.7212777\n",
            "  0.94471625 0.43454652 0.4804972  0.24226647 0.19487676 0.95279986\n",
            "  0.23030628 0.44319994 0.60788848 0.50026812 0.183638   0.93655422\n",
            "  0.57736772 0.08293348 0.14253738 0.0274538  0.41421411 0.56654875\n",
            "  0.14865558 0.72385825 0.76682243 0.39868539 0.70091508 0.88211021\n",
            "  0.92721707 0.24542866 0.77558637 0.26030746 0.19832424 0.13121777\n",
            "  0.41879047 0.9340174  0.18572259 0.71103896 0.61858393 0.07244085\n",
            "  0.89764707 0.03645546 0.73168917 0.15456282 0.01150956 0.68666115\n",
            "  0.69367194 0.06687164 0.70622601 0.16510111 0.03181383 0.78963119\n",
            "  0.96349046 0.79306237 0.43373457 0.89113688 0.61319451 0.11007951\n",
            "  0.58911175 0.18989485 0.9554811  0.74553236 0.80226669 0.17710864\n",
            "  0.71287308 0.87340421 0.04749153 0.06634568 0.50696048 0.72347635\n",
            "  0.66727253 0.7010737  0.93453628 0.70830843]]\n",
            "Mean of the array:\n",
            "0.5198760461147427\n",
            "Median of the array:\n",
            "0.597611249059441\n",
            "Standard deviation of the array:\n",
            "0.30017894783968213\n"
          ],
          "name": "stdout"
        }
      ]
    },
    {
      "cell_type": "code",
      "metadata": {
        "id": "e9Va5hgKABAv",
        "colab_type": "code",
        "colab": {
          "base_uri": "https://localhost:8080/",
          "height": 187
        },
        "outputId": "9d29bda7-1271-46bc-8479-bf8ee14beffa"
      },
      "source": [
        "# 8. Normalize a 5x5 random matrix\n",
        "i = np.random.rand(5,5)\n",
        "print(i)\n",
        "i_max, i_min = i.max(), i.min()\n",
        "i = (i - i_min)/(i_max - i_min)\n",
        "print(i)\n",
        "#Use sckit learn to make it easier"
      ],
      "execution_count": 49,
      "outputs": [
        {
          "output_type": "stream",
          "text": [
            "[[0.13611616 0.65354904 0.05642481 0.48505473 0.36390302]\n",
            " [0.66461343 0.49564905 0.5410842  0.30692277 0.80094394]\n",
            " [0.81298378 0.11016973 0.98615918 0.6440072  0.09498432]\n",
            " [0.59301606 0.95776815 0.58883018 0.37921587 0.78935768]\n",
            " [0.72575234 0.64334603 0.3339006  0.67087739 0.50931568]]\n",
            "[[0.08571411 0.64225251 0.         0.46102407 0.33071619]\n",
            " [0.6541531  0.47241906 0.52128802 0.2694296  0.80078692]\n",
            " [0.81373669 0.05780675 1.         0.63198953 0.04147369]\n",
            " [0.57714469 0.96946329 0.57264245 0.34718633 0.78832502]\n",
            " [0.71991265 0.63127839 0.29844631 0.66089046 0.48711856]]\n"
          ],
          "name": "stdout"
        }
      ]
    },
    {
      "cell_type": "code",
      "metadata": {
        "id": "SMGa9hEtBBi-",
        "colab_type": "code",
        "colab": {
          "base_uri": "https://localhost:8080/",
          "height": 340
        },
        "outputId": "089471ab-ccfd-4065-9499-0b1f03242091"
      },
      "source": [
        "# 9. Consider an array of dimension (4,4,3), how to mulitply it by an array with dimensions (4,4)?\n",
        "# Getting the transponse of the multidimensional array, so that each row multiplies a column \n",
        "j = np.random.rand(4,4,3)\n",
        "k = np.random.rand(4,4)\n",
        "# print(j)\n",
        "# print(k)\n",
        "# res = j * np.transpose(np.array([k,]*3))\n",
        "# print(res)\n",
        "\n",
        "j * k[:,:,None]"
      ],
      "execution_count": 69,
      "outputs": [
        {
          "output_type": "execute_result",
          "data": {
            "text/plain": [
              "array([[[5.98840381e-02, 1.23381493e-01, 1.30381536e-01],\n",
              "        [5.19385895e-01, 2.09965590e-01, 2.75183467e-01],\n",
              "        [1.05566025e-01, 6.23808602e-02, 6.03399810e-02],\n",
              "        [1.37122176e-01, 4.53903462e-01, 1.81948771e-01]],\n",
              "\n",
              "       [[3.29126333e-01, 3.00965849e-01, 3.15915420e-01],\n",
              "        [7.62673531e-01, 1.78289757e-01, 7.14058645e-01],\n",
              "        [6.67803622e-03, 1.40457138e-02, 3.65913667e-02],\n",
              "        [1.31601895e-03, 2.57074023e-03, 2.98662256e-04]],\n",
              "\n",
              "       [[7.79056514e-02, 5.10038254e-02, 9.39106267e-02],\n",
              "        [1.59940000e-01, 1.47711712e-01, 1.21368639e-01],\n",
              "        [3.48254866e-01, 3.11324258e-01, 3.30008732e-02],\n",
              "        [7.24225816e-01, 7.52771334e-01, 6.08488681e-01]],\n",
              "\n",
              "       [[7.53794772e-02, 2.76040983e-01, 2.06951205e-01],\n",
              "        [1.45944681e-01, 1.57930944e-01, 1.03241363e-01],\n",
              "        [2.40545351e-01, 1.49010975e-01, 6.48115555e-02],\n",
              "        [5.72325870e-02, 7.75667263e-02, 3.65139291e-01]]])"
            ]
          },
          "metadata": {
            "tags": []
          },
          "execution_count": 69
        }
      ]
    }
  ]
}
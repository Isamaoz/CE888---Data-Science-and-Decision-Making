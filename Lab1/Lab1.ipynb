{
  "nbformat": 4,
  "nbformat_minor": 0,
  "metadata": {
    "colab": {
      "name": "Lab1.ipynb",
      "provenance": [],
      "authorship_tag": "ABX9TyNIwI0nrQh06AysBUnlazzs",
      "include_colab_link": true
    },
    "kernelspec": {
      "name": "python3",
      "display_name": "Python 3"
    },
    "accelerator": "GPU"
  },
  "cells": [
    {
      "cell_type": "markdown",
      "metadata": {
        "id": "view-in-github",
        "colab_type": "text"
      },
      "source": [
        "<a href=\"https://colab.research.google.com/github/Isamaoz/CE888---Data-Science-and-Decision-Making/blob/master/Lab1/Lab1.ipynb\" target=\"_parent\"><img src=\"https://colab.research.google.com/assets/colab-badge.svg\" alt=\"Open In Colab\"/></a>"
      ]
    },
    {
      "cell_type": "markdown",
      "metadata": {
        "id": "t9MHoaR_z8Ny",
        "colab_type": "text"
      },
      "source": [
        "#**FIRST LABORATORY**\n",
        "##Isamiri Ortiz Blanco\n"
      ]
    },
    {
      "cell_type": "markdown",
      "metadata": {
        "id": "6X-TO_KR1mjo",
        "colab_type": "text"
      },
      "source": [
        "## Questions to be done during the lab:\n",
        "\n",
        "1. Create a (4 x 2) integer array and print it's attributes\n",
        "\n",
        "2. Create an array of dimension (1,10) and sort it in ascending and descending order\n",
        "\n",
        "3. Convert an 1D array [1 2 3 4 5 6 7 8 9] to 2D array [[1 2 3], [4 5 6], [7 8 9]]\n",
        "\n",
        "4. Stack two arrays of any size horizontally and vertically\n",
        "\n",
        "5. Create two array of same size and find commom elements\n",
        "\n",
        "6. Create a 2D array of 5 by 5 and find the min and max values from each row and each column\n",
        "\n",
        "7. Create an array of size 100 and  compute the mean, median, standard deviation. \n",
        "\n",
        "8. Normalize a 5x5 random matrix \n",
        "\n",
        "9. Consider an array of dimension (4,4,3), how to mulitply it by an array with dimensions (4,4)?\n",
        "\n"
      ]
    },
    {
      "cell_type": "code",
      "metadata": {
        "id": "KIrISIn7uwei",
        "colab_type": "code",
        "colab": {}
      },
      "source": [
        "import numpy as np"
      ],
      "execution_count": 0,
      "outputs": []
    },
    {
      "cell_type": "code",
      "metadata": {
        "id": "Rk2fxQoX2qOf",
        "colab_type": "code",
        "outputId": "a3baa4bd-fc4b-4df9-bf44-b4b93967d979",
        "colab": {
          "base_uri": "https://localhost:8080/",
          "height": 84
        }
      },
      "source": [
        "# 1. 4x2 integer array\n",
        "a = np.array([[0, 1],\n",
        "              [2, 3],\n",
        "              [4, 5],\n",
        "              [6, 7]])\n",
        "print(a)"
      ],
      "execution_count": 4,
      "outputs": [
        {
          "output_type": "stream",
          "text": [
            "[[0 1]\n",
            " [2 3]\n",
            " [4 5]\n",
            " [6 7]]\n"
          ],
          "name": "stdout"
        }
      ]
    },
    {
      "cell_type": "code",
      "metadata": {
        "id": "vRWGE-P43n1z",
        "colab_type": "code",
        "outputId": "f0f1e26d-38c1-4738-84bd-322b445a3cd0",
        "colab": {
          "base_uri": "https://localhost:8080/",
          "height": 34
        }
      },
      "source": [
        "print(a.shape)"
      ],
      "execution_count": 5,
      "outputs": [
        {
          "output_type": "stream",
          "text": [
            "(4, 2)\n"
          ],
          "name": "stdout"
        }
      ]
    },
    {
      "cell_type": "code",
      "metadata": {
        "id": "K_8n9JUr3PkH",
        "colab_type": "code",
        "outputId": "4ff8b701-5a52-40ce-b1ee-a65e6145b01e",
        "colab": {
          "base_uri": "https://localhost:8080/",
          "height": 84
        }
      },
      "source": [
        "# 2. array of dimension (1,10) \n",
        "b = np.array([5,6,2,7,12,56,3,1,9,8])\n",
        "print(\"Sorting in ascending order:\")\n",
        "print(np.sort(b))\n",
        "print(\"Sorting in descending order:\")\n",
        "print(-np.sort(-b))\n"
      ],
      "execution_count": 6,
      "outputs": [
        {
          "output_type": "stream",
          "text": [
            "Sorting in ascending order:\n",
            "[ 1  2  3  5  6  7  8  9 12 56]\n",
            "Sorting in descending order:\n",
            "[56 12  9  8  7  6  5  3  2  1]\n"
          ],
          "name": "stdout"
        }
      ]
    },
    {
      "cell_type": "code",
      "metadata": {
        "id": "FNkvdSOD5MAf",
        "colab_type": "code",
        "outputId": "29cd01d4-5eee-4218-86f9-8fc655528893",
        "colab": {
          "base_uri": "https://localhost:8080/",
          "height": 84
        }
      },
      "source": [
        "# 3. Convert an 1D array [1 2 3 4 5 6 7 8 9] to 2D array [[1 2 3], [4 5 6], [7 8 9]]\n",
        "c = np.array([1, 2, 3, 4, 5, 6, 7, 8, 9])\n",
        "print(c)\n",
        "c = np.array([c[0:3],\n",
        "              c[3:6],\n",
        "              c[6:9]])\n",
        "print(c)"
      ],
      "execution_count": 7,
      "outputs": [
        {
          "output_type": "stream",
          "text": [
            "[1 2 3 4 5 6 7 8 9]\n",
            "[[1 2 3]\n",
            " [4 5 6]\n",
            " [7 8 9]]\n"
          ],
          "name": "stdout"
        }
      ]
    },
    {
      "cell_type": "code",
      "metadata": {
        "id": "O3Rxf8iR8stQ",
        "colab_type": "code",
        "outputId": "07b931bd-15f9-4cfb-9031-f200f1418fb1",
        "colab": {
          "base_uri": "https://localhost:8080/",
          "height": 118
        }
      },
      "source": [
        "# 4. Stack two arrays of any size horizontally and vertically\n",
        "d = np.array([1,2,3,4])\n",
        "e = np.array([5,6,7,8])\n",
        "\n",
        "# Stack horizontally\n",
        "print(np.stack((d,e)))\n",
        "\n",
        "# Stack vertically\n",
        "print(np.stack((d,e), axis=-1))"
      ],
      "execution_count": 8,
      "outputs": [
        {
          "output_type": "stream",
          "text": [
            "[[1 2 3 4]\n",
            " [5 6 7 8]]\n",
            "[[1 5]\n",
            " [2 6]\n",
            " [3 7]\n",
            " [4 8]]\n"
          ],
          "name": "stdout"
        }
      ]
    },
    {
      "cell_type": "code",
      "metadata": {
        "id": "KcINZ_fI8-An",
        "colab_type": "code",
        "outputId": "13f0b74a-2509-4967-b44a-637c146e45ed",
        "colab": {
          "base_uri": "https://localhost:8080/",
          "height": 34
        }
      },
      "source": [
        "# 5. Create two array of same size and find commom elements\n",
        "f = [1,2,3,9,5]\n",
        "g = [5,7,2,9,10]\n",
        "np.intersect1d(f,g)"
      ],
      "execution_count": 9,
      "outputs": [
        {
          "output_type": "execute_result",
          "data": {
            "text/plain": [
              "array([2, 5, 9])"
            ]
          },
          "metadata": {
            "tags": []
          },
          "execution_count": 9
        }
      ]
    },
    {
      "cell_type": "code",
      "metadata": {
        "id": "M22PNZ7F-_iP",
        "colab_type": "code",
        "outputId": "44f156e9-63c1-4a57-bf99-ce81facdef95",
        "colab": {
          "base_uri": "https://localhost:8080/",
          "height": 420
        }
      },
      "source": [
        "# 6. Create a 2D array of 5 by 5 and find the min and max values from each row and each column\n",
        "x = np.array([[1,2,3,4,5],\n",
        "              [61,87,8,92,10],\n",
        "              [111,2,138,14,15],\n",
        "              [116,57,18,109,20],\n",
        "              [31,2,45,6,0]])\n",
        "#Minimum in rows\n",
        "print(\"Minimum values in rows:\")\n",
        "for y in range(5):\n",
        "  print(np.min(x[y]))\n",
        "print(\"Maximum values in rows:\")  \n",
        "for y in range(5):\n",
        "  print(np.max(x[y]))\n",
        "print(\"Minimum values in columns:\")\n",
        "for y in range(5):\n",
        "  print(np.min(x[:,y]))\n",
        "print(\"Maximum values in columns:\")\n",
        "for y in range(5):\n",
        "  print(np.max(x[:,y]))"
      ],
      "execution_count": 10,
      "outputs": [
        {
          "output_type": "stream",
          "text": [
            "Minimum values in rows:\n",
            "1\n",
            "8\n",
            "2\n",
            "18\n",
            "0\n",
            "Maximum values in rows:\n",
            "5\n",
            "92\n",
            "138\n",
            "116\n",
            "45\n",
            "Minimum values in columns:\n",
            "1\n",
            "2\n",
            "3\n",
            "4\n",
            "0\n",
            "Maximum values in columns:\n",
            "116\n",
            "87\n",
            "138\n",
            "109\n",
            "20\n"
          ],
          "name": "stdout"
        }
      ]
    },
    {
      "cell_type": "code",
      "metadata": {
        "id": "XCaoDwO4_QKo",
        "colab_type": "code",
        "outputId": "cb3e0e1d-8ee8-4a20-88c1-6e23ef2ce679",
        "colab": {
          "base_uri": "https://localhost:8080/",
          "height": 403
        }
      },
      "source": [
        "# 7. Create an array of size 100 and compute the mean, median, standard deviation.\n",
        "h=np.random.rand(1,100)\n",
        "print(h)\n",
        "print(\"Mean of the array:\")\n",
        "print(np.mean(h))\n",
        "print(\"Median of the array:\")\n",
        "print(np.median(h))\n",
        "print(\"Standard deviation of the array:\")\n",
        "print(np.std(h))"
      ],
      "execution_count": 11,
      "outputs": [
        {
          "output_type": "stream",
          "text": [
            "[[0.53322616 0.35372714 0.04070182 0.48434489 0.22422196 0.99878889\n",
            "  0.9691788  0.94232115 0.91496752 0.59606116 0.48823341 0.44293172\n",
            "  0.89221934 0.57246933 0.16611995 0.23942561 0.77644532 0.14747025\n",
            "  0.81091819 0.75370095 0.66342287 0.01342854 0.73843236 0.3451445\n",
            "  0.00190823 0.31672851 0.76632006 0.58979726 0.55664935 0.48895936\n",
            "  0.07345821 0.5244453  0.20978206 0.5124464  0.87184458 0.6881649\n",
            "  0.41841818 0.6077956  0.31341362 0.90466153 0.80647701 0.87784404\n",
            "  0.92491737 0.99423697 0.46603409 0.85856903 0.30396732 0.78055538\n",
            "  0.50583467 0.25501972 0.29326018 0.82215226 0.13546003 0.85973686\n",
            "  0.05477359 0.9720545  0.1989425  0.2984104  0.97598303 0.85134254\n",
            "  0.17920558 0.35971433 0.64201623 0.56474165 0.84578433 0.21039374\n",
            "  0.73997176 0.79014589 0.38545522 0.2105519  0.77175305 0.01529085\n",
            "  0.23514162 0.56049111 0.0141339  0.22601303 0.72852192 0.3659927\n",
            "  0.02555374 0.85514215 0.91723439 0.85851107 0.62727743 0.02168459\n",
            "  0.62857012 0.57005913 0.06095142 0.42881226 0.22649794 0.12512569\n",
            "  0.39583782 0.95908197 0.79226865 0.91051138 0.77623636 0.00419868\n",
            "  0.46779658 0.70575258 0.76324057 0.52434528]]\n",
            "Mean of the array:\n",
            "0.5267827502711164\n",
            "Median of the array:\n",
            "0.5449377535863222\n",
            "Standard deviation of the array:\n",
            "0.3005039776666933\n"
          ],
          "name": "stdout"
        }
      ]
    },
    {
      "cell_type": "code",
      "metadata": {
        "id": "e9Va5hgKABAv",
        "colab_type": "code",
        "outputId": "0968226c-3bd0-4b56-c675-c29575aba110",
        "colab": {
          "base_uri": "https://localhost:8080/",
          "height": 185
        }
      },
      "source": [
        "# 8. Normalize a 5x5 random matrix\n",
        "i = np.random.rand(5,5)\n",
        "print(i)\n",
        "i_max, i_min = i.max(), i.min()\n",
        "i = (i - i_min)/(i_max - i_min)\n",
        "print(i)\n",
        "#Use sckit learn to make it easier"
      ],
      "execution_count": 12,
      "outputs": [
        {
          "output_type": "stream",
          "text": [
            "[[0.74590269 0.42141289 0.10137174 0.61371558 0.12876335]\n",
            " [0.53779056 0.54640111 0.56064198 0.56481756 0.39139648]\n",
            " [0.94457713 0.44281357 0.58828032 0.75489272 0.73657079]\n",
            " [0.28776436 0.62203449 0.41901809 0.61151165 0.32068251]\n",
            " [0.20866124 0.71575559 0.75260791 0.68629031 0.53146364]]\n",
            "[[0.76438192 0.37955301 0.         0.60761452 0.0324851 ]\n",
            " [0.5175712  0.52778288 0.54467185 0.54962388 0.34395504]\n",
            " [1.         0.40493317 0.57744956 0.77504364 0.75331474]\n",
            " [0.22105245 0.61748034 0.3767129  0.60500076 0.26009176]\n",
            " [0.12724006 0.72862894 0.77233397 0.69368457 0.51006778]]\n"
          ],
          "name": "stdout"
        }
      ]
    },
    {
      "cell_type": "code",
      "metadata": {
        "id": "SMGa9hEtBBi-",
        "colab_type": "code",
        "outputId": "fb5b49a9-e22f-42ed-ea6f-ca3914ee6577",
        "colab": {
          "base_uri": "https://localhost:8080/",
          "height": 336
        }
      },
      "source": [
        "# 9. Consider an array of dimension (4,4,3), how to mulitply it by an array with dimensions (4,4)?\n",
        "# Getting the transponse of the multidimensional array, so that each row multiplies a column \n",
        "j = np.random.rand(4,4,3)\n",
        "k = np.random.rand(4,4)\n",
        "# print(j)\n",
        "# print(k)\n",
        "# res = j * np.transpose(np.array([k,]*3))\n",
        "# print(res)\n",
        "\n",
        "j * k[:,:,None]"
      ],
      "execution_count": 13,
      "outputs": [
        {
          "output_type": "execute_result",
          "data": {
            "text/plain": [
              "array([[[0.22844526, 0.59777524, 0.21466445],\n",
              "        [0.15074315, 0.4564341 , 0.09490294],\n",
              "        [0.19355769, 0.03816401, 0.12146041],\n",
              "        [0.1297865 , 0.315621  , 0.17219077]],\n",
              "\n",
              "       [[0.3254464 , 0.60134151, 0.60100924],\n",
              "        [0.00798972, 0.09560647, 0.28388254],\n",
              "        [0.41631185, 0.096536  , 0.54284698],\n",
              "        [0.021195  , 0.04878682, 0.01063763]],\n",
              "\n",
              "       [[0.28555149, 0.67837052, 0.83018336],\n",
              "        [0.38645409, 0.3940568 , 0.29162075],\n",
              "        [0.13363275, 0.27897613, 0.35621158],\n",
              "        [0.16799648, 0.17355133, 0.12481229]],\n",
              "\n",
              "       [[0.1492741 , 0.33248831, 0.01081682],\n",
              "        [0.32245226, 0.06522247, 0.47151405],\n",
              "        [0.23131131, 0.01980643, 0.32098351],\n",
              "        [0.29096256, 0.07972388, 0.05661389]]])"
            ]
          },
          "metadata": {
            "tags": []
          },
          "execution_count": 13
        }
      ]
    },
    {
      "cell_type": "code",
      "metadata": {
        "id": "ic7HQJj4vced",
        "colab_type": "code",
        "colab": {}
      },
      "source": [
        ""
      ],
      "execution_count": 0,
      "outputs": []
    }
  ]
}
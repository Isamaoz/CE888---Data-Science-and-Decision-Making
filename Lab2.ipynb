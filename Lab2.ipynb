{
  "nbformat": 4,
  "nbformat_minor": 0,
  "metadata": {
    "colab": {
      "name": "Lab2.ipynb",
      "provenance": [],
      "toc_visible": true,
      "authorship_tag": "ABX9TyMJiGPU+2Gow+hNaDMvMTS8",
      "include_colab_link": true
    },
    "kernelspec": {
      "name": "python3",
      "display_name": "Python 3"
    },
    "accelerator": "GPU"
  },
  "cells": [
    {
      "cell_type": "markdown",
      "metadata": {
        "id": "view-in-github",
        "colab_type": "text"
      },
      "source": [
        "<a href=\"https://colab.research.google.com/github/Isamaoz/CE888---Data-Science-and-Decision-Making/blob/master/Lab2.ipynb\" target=\"_parent\"><img src=\"https://colab.research.google.com/assets/colab-badge.svg\" alt=\"Open In Colab\"/></a>"
      ]
    },
    {
      "cell_type": "code",
      "metadata": {
        "id": "lGtmfAU8x77Y",
        "colab_type": "code",
        "colab": {}
      },
      "source": [
        "import matplotlib\n",
        "import pandas as pd\n",
        "import seaborn as sns\n",
        "import numpy as np"
      ],
      "execution_count": 0,
      "outputs": []
    },
    {
      "cell_type": "code",
      "metadata": {
        "id": "aB5M7fuPx9MA",
        "colab_type": "code",
        "colab": {
          "base_uri": "https://localhost:8080/",
          "height": 34
        },
        "outputId": "148b4280-2a2a-464e-e0bf-ef183dc86615"
      },
      "source": [
        "# Load the data\n",
        "df = pd.read_csv('https://raw.githubusercontent.com/albanda/CE888/master/lab2%20-%20bootstrap/customers.csv',error_bad_lines=False)\n",
        "data = df.values.T[1]\n",
        "print(data)"
      ],
      "execution_count": 19,
      "outputs": [
        {
          "output_type": "stream",
          "text": [
            "[ 2.  8. 20. 13.  5.  9. 10.  8. 22. 10.  2.  4.  7.  9.]\n"
          ],
          "name": "stdout"
        }
      ]
    },
    {
      "cell_type": "code",
      "metadata": {
        "id": "RCytQAJ1yVJE",
        "colab_type": "code",
        "colab": {
          "base_uri": "https://localhost:8080/",
          "height": 442
        },
        "outputId": "c483fc53-9d3b-436e-bae8-90acf5f625aa"
      },
      "source": [
        "samples = np.empty((20,len(data)))\n",
        "samples_mean = np.empty((20))\n",
        "for x in range(20):\n",
        "  samples[x] = np.random.choice(data, size = len(data))\n",
        "  samples[x] = np.sort(samples[x])\n",
        "  samples_mean[x] = np.mean(samples[x])\n",
        "data_mean = np.mean(samples)\n",
        "print(samples)\n",
        "print(samples_mean)\n",
        "print(data_mean)"
      ],
      "execution_count": 4,
      "outputs": [
        {
          "output_type": "stream",
          "text": [
            "[[ 2.  2.  2.  7.  8.  8.  8.  9.  9. 10. 13. 13. 20. 20.]\n",
            " [ 2.  4.  5.  8.  8.  8.  9.  9. 10. 10. 13. 13. 20. 20.]\n",
            " [ 2.  2.  2.  4.  4.  5.  7.  8.  8.  9. 10. 10. 20. 20.]\n",
            " [ 2.  2.  2.  7.  8.  9. 10. 10. 10. 10. 10. 10. 13. 20.]\n",
            " [ 2.  4.  4.  5.  7.  8. 10. 10. 10. 13. 20. 20. 22. 22.]\n",
            " [ 2.  2.  2.  2.  4.  5.  9.  9. 10. 10. 10. 10. 13. 20.]\n",
            " [ 4.  4.  8.  8.  8.  8.  8.  9.  9.  9. 10. 10. 20. 20.]\n",
            " [ 2.  2.  5.  5.  7.  7.  7.  7.  7.  8.  9.  9. 10. 10.]\n",
            " [ 2.  4.  7.  8.  8.  8.  8.  8.  8.  9.  9.  9. 13. 13.]\n",
            " [ 2.  4.  4.  8.  8.  9.  9.  9. 10. 10. 10. 10. 10. 22.]\n",
            " [ 2.  2.  2.  5.  8.  8.  8.  9.  9.  9. 10. 10. 20. 22.]\n",
            " [ 2.  2.  4.  4.  5.  5.  5.  7.  8.  8.  8.  9. 20. 22.]\n",
            " [ 2.  2.  4.  4.  5.  7.  8.  8.  9.  9.  9. 13. 13. 22.]\n",
            " [ 2.  7.  7.  7.  7.  8.  8.  9. 10. 13. 13. 13. 20. 22.]\n",
            " [ 5.  5.  7.  8.  8.  8.  8.  9.  9.  9.  9. 10. 10. 22.]\n",
            " [ 4.  4.  5.  8.  8.  9.  9.  9.  9. 10. 10. 10. 13. 20.]\n",
            " [ 2.  2.  2.  7.  8.  9. 10. 10. 10. 20. 22. 22. 22. 22.]\n",
            " [ 2.  2.  7.  8.  8.  8.  8.  8.  8.  9.  9. 10. 13. 22.]\n",
            " [ 2.  2.  2.  2.  8.  8.  9.  9. 10. 13. 13. 13. 22. 22.]\n",
            " [ 2.  2.  2.  2.  8.  8.  9.  9. 10. 10. 10. 10. 10. 22.]]\n",
            "[ 9.35714286  9.92857143  7.92857143  8.78571429 11.21428571  7.71428571\n",
            "  9.64285714  6.78571429  8.14285714  8.92857143  8.85714286  7.78571429\n",
            "  8.21428571 10.42857143  9.07142857  9.14285714 12.          8.71428571\n",
            "  9.64285714  8.14285714]\n",
            "9.021428571428572\n"
          ],
          "name": "stdout"
        }
      ]
    },
    {
      "cell_type": "code",
      "metadata": {
        "id": "X-FWSWut1YAi",
        "colab_type": "code",
        "colab": {
          "base_uri": "https://localhost:8080/",
          "height": 51
        },
        "outputId": "0b1d6551-f1d3-4f28-8edc-77aaff8a9c8a"
      },
      "source": [
        "lower = np.percentile(samples_mean, 2.5)\n",
        "upper = np.percentile(samples_mean, 97.5)\n",
        "print(lower)\n",
        "print(upper)"
      ],
      "execution_count": 5,
      "outputs": [
        {
          "output_type": "stream",
          "text": [
            "7.226785714285714\n",
            "11.626785714285713\n"
          ],
          "name": "stdout"
        }
      ]
    },
    {
      "cell_type": "code",
      "metadata": {
        "id": "MVw-eC2cyA74",
        "colab_type": "code",
        "colab": {}
      },
      "source": [
        "# Checking the notes from the lecture, create here your own bootstrap function:\n",
        "# 1. Create an array of samples of shape (n_iterations, sample_size)\n",
        "# 2. Calculate and save the mean of the array (this is \"data_mean\" that is returned by the function)\n",
        "# 3. In each iteration:\n",
        "# 3.1 Get the data corresponding to that iteration (new_samples[iteration, :])\n",
        "# 3.2 Calculate the mean of the iteration data and store it\n",
        "# (At this point you should have an array of n_iterations values)\n",
        "# 4. Calculate the lower and upper bounds for a 95% CI (hint: check the percentile function on Numpy)\n",
        "# 5. Return data_mean, and the lower and upper bounds of your interval\n",
        "def boostrap_mean(sample, sample_size, n_iterations):\n",
        "\t# <---INSERT YOUR CODE HERE--->\n",
        "  samples = np.empty((n_iterations,sample_size))\n",
        "  samples_mean = np.empty((n_iterations))\n",
        "  for x in range(n_iterations):\n",
        "    samples[x] = np.random.choice(sample, size = sample_size)\n",
        "    samples[x] = np.sort(samples[x])\n",
        "    samples_mean[x] = np.mean(samples[x])\n",
        "  data_mean = np.mean(samples)\n",
        "  lower = np.percentile(samples_mean, 2.5)\n",
        "  upper = np.percentile(samples_mean, 97.5)\n",
        "  return data_mean, lower, upper"
      ],
      "execution_count": 0,
      "outputs": []
    },
    {
      "cell_type": "code",
      "metadata": {
        "id": "e5V8DDDr_a9y",
        "colab_type": "code",
        "colab": {
          "base_uri": "https://localhost:8080/",
          "height": 386
        },
        "outputId": "45ef176a-b1da-4063-b10c-1240836a36b7"
      },
      "source": [
        "# Call your bootstrap function and plot the results\n",
        "\n",
        "boots = []\n",
        "for i in range(100, 100000, 1000):\n",
        "    boot = boostrap_mean(data, data.shape[0], i)\n",
        "    boots.append([i, boot[0], \"mean\"])\n",
        "    boots.append([i, boot[1], \"lower\"])\n",
        "    boots.append([i, boot[2], \"upper\"])\n",
        "\n",
        "df_boot = pd.DataFrame(boots, columns=['Boostrap Iterations', 'Mean', \"Value\"])\n",
        "sns_plot = sns.lmplot(df_boot.columns[0], df_boot.columns[1], data=df_boot, fit_reg=False, hue=\"Value\")\n",
        "\n",
        "sns_plot.axes[0, 0].set_ylim(0,)\n",
        "sns_plot.axes[0, 0].set_xlim(0, 100000)\n",
        "\n",
        "#sns_plot.savefig(\"bootstrap_confidence.png\", bbox_inches='tight')\n",
        "#sns_plot.savefig(\"bootstrap_confidence.pdf\", bbox_inches='tight')"
      ],
      "execution_count": 9,
      "outputs": [
        {
          "output_type": "execute_result",
          "data": {
            "text/plain": [
              "(0, 100000)"
            ]
          },
          "metadata": {
            "tags": []
          },
          "execution_count": 9
        },
        {
          "output_type": "display_data",
          "data": {
            "image/png": "[encoded data removed]",
            "text/plain": [
              "<Figure size 425.125x360 with 1 Axes>"
            ]
          },
          "metadata": {
            "tags": []
          }
        }
      ]
    },
    {
      "cell_type": "code",
      "metadata": {
        "id": "UurekYncCRDn",
        "colab_type": "code",
        "colab": {}
      },
      "source": [
        "def boostrap_mean_ci(sample, sample_size, n_iterations, ci):\n",
        "\t# <---INSERT YOUR CODE HERE--->\n",
        "  samples = np.empty((n_iterations,sample_size))\n",
        "  samples_mean = np.empty((n_iterations))\n",
        "  for x in range(n_iterations):\n",
        "    samples[x] = np.random.choice(sample, size = sample_size)\n",
        "    samples[x] = np.sort(samples[x])\n",
        "    samples_mean[x] = np.mean(samples[x])\n",
        "  data_mean = np.mean(samples)\n",
        "  lower = np.percentile(samples_mean, (100-ci)/2)\n",
        "  upper = np.percentile(samples_mean, (ci+(100-ci))/2)\n",
        "  return data_mean, lower, upper"
      ],
      "execution_count": 0,
      "outputs": []
    },
    {
      "cell_type": "code",
      "metadata": {
        "id": "PNin3A0dDnvH",
        "colab_type": "code",
        "colab": {
          "base_uri": "https://localhost:8080/",
          "height": 369
        },
        "outputId": "24f30687-1ebe-4345-c7eb-df072c4b180a"
      },
      "source": [
        "\n",
        "boots = []\n",
        "for i in range(100, 100000, 1000):\n",
        "    boot = boostrap_mean_ci(data, data.shape[0], i, 80)\n",
        "    boots.append([i, boot[0], \"mean\"])\n",
        "    boots.append([i, boot[1], \"lower\"])\n",
        "    boots.append([i, boot[2], \"upper\"])\n",
        "\n",
        "df_boot = pd.DataFrame(boots, columns=['Boostrap Iterations', 'Mean', \"Value\"])\n",
        "sns_plot = sns.lmplot(df_boot.columns[0], df_boot.columns[1], data=df_boot, fit_reg=False, hue=\"Value\")\n",
        "\n",
        "sns_plot.axes[0, 0].set_ylim(0,)\n",
        "sns_plot.axes[0, 0].set_xlim(0, 100000)\n",
        "\n",
        "sns_plot.savefig(\"bootstrap_confidence_80.png\", bbox_inches='tight')\n",
        "sns_plot.savefig(\"bootstrap_confidence_80.pdf\", bbox_inches='tight')"
      ],
      "execution_count": 16,
      "outputs": [
        {
          "output_type": "display_data",
          "data": {
            "image/png": "[encoded data removed]",
            "text/plain": [
              "<Figure size 425.125x360 with 1 Axes>"
            ]
          },
          "metadata": {
            "tags": []
          }
        }
      ]
    },
    {
      "cell_type": "markdown",
      "metadata": {
        "id": "OS8sjSldEBae",
        "colab_type": "text"
      },
      "source": [
        "#Vehicles Dataset\n"
      ]
    },
    {
      "cell_type": "code",
      "metadata": {
        "id": "P3QMwxLAD-12",
        "colab_type": "code",
        "colab": {
          "base_uri": "https://localhost:8080/",
          "height": 1000
        },
        "outputId": "027a658c-6738-4a3d-9c86-4f03e6c5f5c5"
      },
      "source": [
        "# Load and visualise the vehicles dataset\n",
        "# <---INSERT YOUR CODE HERE--->\n",
        "vh = pd.read_csv('vehicles.csv',error_bad_lines=False)\n",
        "print(vh)\n",
        "dataV = vh.values\n",
        "print(dataV)\n",
        "# Note: you can add more cells as needed to organise your code and your plots"
      ],
      "execution_count": 27,
      "outputs": [
        {
          "output_type": "stream",
          "text": [
            "     Current fleet  New Fleet\n",
            "0               18       24.0\n",
            "1               15       27.0\n",
            "2               18       27.0\n",
            "3               16       25.0\n",
            "4               17       31.0\n",
            "..             ...        ...\n",
            "244             27        NaN\n",
            "245             27        NaN\n",
            "246             32        NaN\n",
            "247             28        NaN\n",
            "248             31        NaN\n",
            "\n",
            "[249 rows x 2 columns]\n",
            "[[18. 24.]\n",
            " [15. 27.]\n",
            " [18. 27.]\n",
            " [16. 25.]\n",
            " [17. 31.]\n",
            " [15. 35.]\n",
            " [14. 24.]\n",
            " [14. 19.]\n",
            " [14. 28.]\n",
            " [15. 23.]\n",
            " [15. 27.]\n",
            " [14. 20.]\n",
            " [15. 22.]\n",
            " [14. 18.]\n",
            " [22. 20.]\n",
            " [18. 31.]\n",
            " [21. 32.]\n",
            " [21. 31.]\n",
            " [10. 32.]\n",
            " [10. 24.]\n",
            " [11. 26.]\n",
            " [ 9. 29.]\n",
            " [28. 24.]\n",
            " [25. 24.]\n",
            " [19. 33.]\n",
            " [16. 33.]\n",
            " [17. 32.]\n",
            " [19. 28.]\n",
            " [18. 19.]\n",
            " [14. 32.]\n",
            " [14. 34.]\n",
            " [14. 26.]\n",
            " [14. 30.]\n",
            " [12. 22.]\n",
            " [13. 22.]\n",
            " [13. 33.]\n",
            " [18. 39.]\n",
            " [22. 36.]\n",
            " [19. 28.]\n",
            " [18. 27.]\n",
            " [23. 21.]\n",
            " [26. 24.]\n",
            " [25. 30.]\n",
            " [20. 34.]\n",
            " [21. 32.]\n",
            " [13. 38.]\n",
            " [14. 37.]\n",
            " [15. 30.]\n",
            " [14. 31.]\n",
            " [17. 37.]\n",
            " [11. 32.]\n",
            " [13. 47.]\n",
            " [12. 41.]\n",
            " [13. 45.]\n",
            " [15. 34.]\n",
            " [13. 33.]\n",
            " [13. 24.]\n",
            " [14. 32.]\n",
            " [22. 39.]\n",
            " [28. 35.]\n",
            " [13. 32.]\n",
            " [14. 37.]\n",
            " [13. 38.]\n",
            " [14. 34.]\n",
            " [15. 34.]\n",
            " [12. 32.]\n",
            " [13. 33.]\n",
            " [13. 32.]\n",
            " [14. 25.]\n",
            " [13. 24.]\n",
            " [12. 37.]\n",
            " [13. 31.]\n",
            " [18. 36.]\n",
            " [16. 36.]\n",
            " [18. 34.]\n",
            " [18. 38.]\n",
            " [23. 32.]\n",
            " [11. 38.]\n",
            " [12. 32.]\n",
            " [13. nan]\n",
            " [12. nan]\n",
            " [18. nan]\n",
            " [21. nan]\n",
            " [19. nan]\n",
            " [21. nan]\n",
            " [15. nan]\n",
            " [16. nan]\n",
            " [15. nan]\n",
            " [11. nan]\n",
            " [20. nan]\n",
            " [21. nan]\n",
            " [19. nan]\n",
            " [15. nan]\n",
            " [26. nan]\n",
            " [25. nan]\n",
            " [16. nan]\n",
            " [16. nan]\n",
            " [18. nan]\n",
            " [16. nan]\n",
            " [13. nan]\n",
            " [14. nan]\n",
            " [14. nan]\n",
            " [14. nan]\n",
            " [28. nan]\n",
            " [19. nan]\n",
            " [18. nan]\n",
            " [15. nan]\n",
            " [15. nan]\n",
            " [16. nan]\n",
            " [15. nan]\n",
            " [16. nan]\n",
            " [14. nan]\n",
            " [17. nan]\n",
            " [16. nan]\n",
            " [15. nan]\n",
            " [18. nan]\n",
            " [21. nan]\n",
            " [20. nan]\n",
            " [13. nan]\n",
            " [23. nan]\n",
            " [20. nan]\n",
            " [23. nan]\n",
            " [18. nan]\n",
            " [19. nan]\n",
            " [25. nan]\n",
            " [26. nan]\n",
            " [18. nan]\n",
            " [16. nan]\n",
            " [16. nan]\n",
            " [15. nan]\n",
            " [22. nan]\n",
            " [22. nan]\n",
            " [24. nan]\n",
            " [23. nan]\n",
            " [29. nan]\n",
            " [25. nan]\n",
            " [20. nan]\n",
            " [18. nan]\n",
            " [19. nan]\n",
            " [18. nan]\n",
            " [27. nan]\n",
            " [13. nan]\n",
            " [17. nan]\n",
            " [13. nan]\n",
            " [13. nan]\n",
            " [13. nan]\n",
            " [30. nan]\n",
            " [26. nan]\n",
            " [18. nan]\n",
            " [17. nan]\n",
            " [16. nan]\n",
            " [15. nan]\n",
            " [18. nan]\n",
            " [21. nan]\n",
            " [19. nan]\n",
            " [19. nan]\n",
            " [16. nan]\n",
            " [16. nan]\n",
            " [16. nan]\n",
            " [16. nan]\n",
            " [25. nan]\n",
            " [26. nan]\n",
            " [31. nan]\n",
            " [34. nan]\n",
            " [36. nan]\n",
            " [20. nan]\n",
            " [19. nan]\n",
            " [20. nan]\n",
            " [19. nan]\n",
            " [21. nan]\n",
            " [20. nan]\n",
            " [25. nan]\n",
            " [21. nan]\n",
            " [19. nan]\n",
            " [21. nan]\n",
            " [21. nan]\n",
            " [19. nan]\n",
            " [18. nan]\n",
            " [19. nan]\n",
            " [18. nan]\n",
            " [18. nan]\n",
            " [18. nan]\n",
            " [30. nan]\n",
            " [31. nan]\n",
            " [23. nan]\n",
            " [24. nan]\n",
            " [22. nan]\n",
            " [20. nan]\n",
            " [22. nan]\n",
            " [20. nan]\n",
            " [21. nan]\n",
            " [17. nan]\n",
            " [18. nan]\n",
            " [17. nan]\n",
            " [18. nan]\n",
            " [17. nan]\n",
            " [16. nan]\n",
            " [19. nan]\n",
            " [19. nan]\n",
            " [36. nan]\n",
            " [27. nan]\n",
            " [23. nan]\n",
            " [24. nan]\n",
            " [34. nan]\n",
            " [35. nan]\n",
            " [28. nan]\n",
            " [29. nan]\n",
            " [27. nan]\n",
            " [34. nan]\n",
            " [32. nan]\n",
            " [28. nan]\n",
            " [26. nan]\n",
            " [24. nan]\n",
            " [19. nan]\n",
            " [28. nan]\n",
            " [24. nan]\n",
            " [27. nan]\n",
            " [27. nan]\n",
            " [26. nan]\n",
            " [24. nan]\n",
            " [30. nan]\n",
            " [39. nan]\n",
            " [35. nan]\n",
            " [34. nan]\n",
            " [30. nan]\n",
            " [22. nan]\n",
            " [27. nan]\n",
            " [20. nan]\n",
            " [18. nan]\n",
            " [28. nan]\n",
            " [27. nan]\n",
            " [34. nan]\n",
            " [31. nan]\n",
            " [29. nan]\n",
            " [27. nan]\n",
            " [24. nan]\n",
            " [23. nan]\n",
            " [38. nan]\n",
            " [36. nan]\n",
            " [25. nan]\n",
            " [38. nan]\n",
            " [26. nan]\n",
            " [22. nan]\n",
            " [36. nan]\n",
            " [27. nan]\n",
            " [27. nan]\n",
            " [32. nan]\n",
            " [28. nan]\n",
            " [31. nan]]\n"
          ],
          "name": "stdout"
        }
      ]
    },
    {
      "cell_type": "code",
      "metadata": {
        "id": "4hEz3wENLYFN",
        "colab_type": "code",
        "colab": {}
      },
      "source": [
        "current_fleet = dataV[:,0]\n",
        "new_fleet = dataV[:,1]\n",
        "new_fleet = new_fleet[np.logical_not(np.isnan(new_fleet))]"
      ],
      "execution_count": 0,
      "outputs": []
    },
    {
      "cell_type": "code",
      "metadata": {
        "id": "bIDCWf8ZH0Sv",
        "colab_type": "code",
        "colab": {}
      },
      "source": [
        "import seaborn as sns"
      ],
      "execution_count": 0,
      "outputs": []
    },
    {
      "cell_type": "code",
      "metadata": {
        "id": "kmdZ8qU7H5vW",
        "colab_type": "code",
        "colab": {
          "base_uri": "https://localhost:8080/",
          "height": 386
        },
        "outputId": "617ad9c9-6e56-44f0-a745-2603f2aa33b2"
      },
      "source": [
        "sns.lmplot(vh.columns[0],vh.columns[1], data=vh)"
      ],
      "execution_count": 33,
      "outputs": [
        {
          "output_type": "execute_result",
          "data": {
            "text/plain": [
              "<seaborn.axisgrid.FacetGrid at 0x7f2f28ff8b38>"
            ]
          },
          "metadata": {
            "tags": []
          },
          "execution_count": 33
        },
        {
          "output_type": "display_data",
          "data": {
            "image/png": "[encoded data removed]",
            "text/plain": [
              "<Figure size 360x360 with 1 Axes>"
            ]
          },
          "metadata": {
            "tags": []
          }
        }
      ]
    },
    {
      "cell_type": "code",
      "metadata": {
        "id": "LwqS8XMAL76v",
        "colab_type": "code",
        "colab": {
          "base_uri": "https://localhost:8080/",
          "height": 282
        },
        "outputId": "c0eec025-85ce-494d-e139-5ef53db4c20c"
      },
      "source": [
        "#Histogram of current fleet\n",
        "sns.distplot(current_fleet, bins=20,kde=False, rug=True, color=[\"g\"])"
      ],
      "execution_count": 63,
      "outputs": [
        {
          "output_type": "execute_result",
          "data": {
            "text/plain": [
              "<matplotlib.axes._subplots.AxesSubplot at 0x7f2f2b4593c8>"
            ]
          },
          "metadata": {
            "tags": []
          },
          "execution_count": 63
        },
        {
          "output_type": "display_data",
          "data": {
            "image/png": "[encoded data removed]",
            "text/plain": [
              "<Figure size 432x288 with 1 Axes>"
            ]
          },
          "metadata": {
            "tags": []
          }
        }
      ]
    },
    {
      "cell_type": "code",
      "metadata": {
        "id": "4d_ar9BqLFbI",
        "colab_type": "code",
        "colab": {
          "base_uri": "https://localhost:8080/",
          "height": 282
        },
        "outputId": "6584e081-8819-4839-9119-f8de3aced92f"
      },
      "source": [
        "#Histogram of new fleet\n",
        "sns.distplot(new_fleet, bins=20,kde=False, rug=True, color=[\"y\"])"
      ],
      "execution_count": 64,
      "outputs": [
        {
          "output_type": "execute_result",
          "data": {
            "text/plain": [
              "<matplotlib.axes._subplots.AxesSubplot at 0x7f2f28d0f048>"
            ]
          },
          "metadata": {
            "tags": []
          },
          "execution_count": 64
        },
        {
          "output_type": "display_data",
          "data": {
            "image/png": "[encoded data removed]",
            "text/plain": [
              "<Figure size 432x288 with 1 Axes>"
            ]
          },
          "metadata": {
            "tags": []
          }
        }
      ]
    },
    {
      "cell_type": "code",
      "metadata": {
        "id": "MP9u2cXaMYYd",
        "colab_type": "code",
        "colab": {
          "base_uri": "https://localhost:8080/",
          "height": 68
        },
        "outputId": "a947c786-f80d-4f68-ea3a-5bd71c646094"
      },
      "source": [
        "cur_mean, cur_lower , cur_upper= boostrap_mean_ci(current_fleet, current_fleet.shape[0], i, 90)\n",
        "print(cur_mean)\n",
        "print(cur_lower)\n",
        "print(cur_upper)"
      ],
      "execution_count": 57,
      "outputs": [
        {
          "output_type": "stream",
          "text": [
            "20.143042888000032\n",
            "19.481927710843372\n",
            "20.136546184738958\n"
          ],
          "name": "stdout"
        }
      ]
    },
    {
      "cell_type": "code",
      "metadata": {
        "id": "BegQNJF6M_Gi",
        "colab_type": "code",
        "colab": {
          "base_uri": "https://localhost:8080/",
          "height": 68
        },
        "outputId": "7a5fe01c-be7d-464e-96ad-f5b69a418123"
      },
      "source": [
        "new_mean, new_lower , new_upper= boostrap_mean_ci(new_fleet, new_fleet.shape[0], 20000, 90)\n",
        "print(new_mean)\n",
        "print(new_lower)\n",
        "print(new_upper)"
      ],
      "execution_count": 99,
      "outputs": [
        {
          "output_type": "stream",
          "text": [
            "30.485410126582277\n",
            "29.341772151898734\n",
            "30.481012658227847\n"
          ],
          "name": "stdout"
        }
      ]
    },
    {
      "cell_type": "code",
      "metadata": {
        "id": "pfqPpBuXNRVC",
        "colab_type": "code",
        "colab": {
          "base_uri": "https://localhost:8080/",
          "height": 34
        },
        "outputId": "d33eeeb6-6780-478b-b45d-159726c4959b"
      },
      "source": [
        "tobs = np.mean(new_fleet) - np.mean(current_fleet)\n",
        "print(tobs)"
      ],
      "execution_count": 86,
      "outputs": [
        {
          "output_type": "stream",
          "text": [
            "10.336434344974837\n"
          ],
          "name": "stdout"
        }
      ]
    },
    {
      "cell_type": "code",
      "metadata": {
        "id": "2yKjwG3WPBCe",
        "colab_type": "code",
        "colab": {
          "base_uri": "https://localhost:8080/",
          "height": 357
        },
        "outputId": "42678110-3234-4044-b326-b7a97ac34666"
      },
      "source": [
        "#H0: There is not an improvement in the current fleet\n",
        "concatenate = np.concatenate((current_fleet,new_fleet))\n",
        "print(concatenate)\n",
        "print(concatenate.shape)"
      ],
      "execution_count": 72,
      "outputs": [
        {
          "output_type": "stream",
          "text": [
            "[18. 15. 18. 16. 17. 15. 14. 14. 14. 15. 15. 14. 15. 14. 22. 18. 21. 21.\n",
            " 10. 10. 11.  9. 28. 25. 19. 16. 17. 19. 18. 14. 14. 14. 14. 12. 13. 13.\n",
            " 18. 22. 19. 18. 23. 26. 25. 20. 21. 13. 14. 15. 14. 17. 11. 13. 12. 13.\n",
            " 15. 13. 13. 14. 22. 28. 13. 14. 13. 14. 15. 12. 13. 13. 14. 13. 12. 13.\n",
            " 18. 16. 18. 18. 23. 11. 12. 13. 12. 18. 21. 19. 21. 15. 16. 15. 11. 20.\n",
            " 21. 19. 15. 26. 25. 16. 16. 18. 16. 13. 14. 14. 14. 28. 19. 18. 15. 15.\n",
            " 16. 15. 16. 14. 17. 16. 15. 18. 21. 20. 13. 23. 20. 23. 18. 19. 25. 26.\n",
            " 18. 16. 16. 15. 22. 22. 24. 23. 29. 25. 20. 18. 19. 18. 27. 13. 17. 13.\n",
            " 13. 13. 30. 26. 18. 17. 16. 15. 18. 21. 19. 19. 16. 16. 16. 16. 25. 26.\n",
            " 31. 34. 36. 20. 19. 20. 19. 21. 20. 25. 21. 19. 21. 21. 19. 18. 19. 18.\n",
            " 18. 18. 30. 31. 23. 24. 22. 20. 22. 20. 21. 17. 18. 17. 18. 17. 16. 19.\n",
            " 19. 36. 27. 23. 24. 34. 35. 28. 29. 27. 34. 32. 28. 26. 24. 19. 28. 24.\n",
            " 27. 27. 26. 24. 30. 39. 35. 34. 30. 22. 27. 20. 18. 28. 27. 34. 31. 29.\n",
            " 27. 24. 23. 38. 36. 25. 38. 26. 22. 36. 27. 27. 32. 28. 31. 24. 27. 27.\n",
            " 25. 31. 35. 24. 19. 28. 23. 27. 20. 22. 18. 20. 31. 32. 31. 32. 24. 26.\n",
            " 29. 24. 24. 33. 33. 32. 28. 19. 32. 34. 26. 30. 22. 22. 33. 39. 36. 28.\n",
            " 27. 21. 24. 30. 34. 32. 38. 37. 30. 31. 37. 32. 47. 41. 45. 34. 33. 24.\n",
            " 32. 39. 35. 32. 37. 38. 34. 34. 32. 33. 32. 25. 24. 37. 31. 36. 36. 34.\n",
            " 38. 32. 38. 32.]\n",
            "(328,)\n"
          ],
          "name": "stdout"
        }
      ]
    },
    {
      "cell_type": "code",
      "metadata": {
        "id": "Z0OCDgAiQUCt",
        "colab_type": "code",
        "colab": {
          "base_uri": "https://localhost:8080/",
          "height": 340
        },
        "outputId": "8992a50f-9dc1-41b4-e1a3-e68063df544b"
      },
      "source": [
        "perm = np.random.permutation(concatenate)\n",
        "print(perm)"
      ],
      "execution_count": 93,
      "outputs": [
        {
          "output_type": "stream",
          "text": [
            "[27. 28. 39. 27. 18. 13. 15. 19. 32. 12. 19. 34. 16. 10. 18. 35. 19. 35.\n",
            " 26. 28. 47. 34. 24. 37. 32. 16. 19. 28. 14. 32. 29. 21. 13. 26. 13. 24.\n",
            " 11. 26. 24. 22. 26. 16. 15. 28. 14. 18. 13. 20. 20. 15. 18. 14. 29. 34.\n",
            " 13. 23. 13. 33. 31. 13. 16. 19. 14. 34. 34. 38. 21. 18. 13. 21. 11. 16.\n",
            " 22. 18. 19. 26. 34. 24. 36. 15. 13. 14. 33. 22. 14. 22. 36. 18. 18. 24.\n",
            " 21. 19. 37. 24. 29. 13. 34. 25. 32. 17. 16. 24. 21. 15. 31. 21. 31. 16.\n",
            " 19. 36. 15. 15. 32. 28. 18. 13. 15. 16. 11. 14. 39. 21. 23. 30. 17. 25.\n",
            " 22. 22. 19. 27. 19. 18. 14. 24. 21. 27. 15. 14. 20. 18. 14. 14. 21. 18.\n",
            " 30. 14. 28. 18. 27. 31. 31. 32. 16. 22. 27. 38. 36. 11. 25. 20. 34. 18.\n",
            " 31. 18. 25. 36. 18. 21. 15. 22. 33. 13. 16. 16. 14. 35.  9. 17. 14. 19.\n",
            " 24. 13. 15. 27. 34. 30. 30. 28. 38. 23. 38. 25. 19. 27. 14. 19. 23. 31.\n",
            " 25. 15. 20. 19. 13. 32. 10. 27. 15. 26. 18. 14. 23. 16. 15. 13. 24. 25.\n",
            " 32. 17. 38. 45. 16. 20. 12. 19. 14. 22. 32. 21. 31. 31. 12. 30. 20. 13.\n",
            " 37. 16. 32. 16. 38. 27. 28. 17. 17. 25. 16. 18. 23. 14. 32. 16. 12. 13.\n",
            " 19. 20. 13. 17. 22. 26. 34. 23. 17. 28. 18. 21. 36. 18. 13. 18. 30. 25.\n",
            " 18. 27. 20. 25. 12. 19. 33. 32. 35. 30. 33. 28. 24. 32. 15. 29. 21. 24.\n",
            " 19. 15. 20. 18. 14. 24. 27. 28. 39. 20. 19. 24. 15. 37. 36. 32. 34. 18.\n",
            " 24. 18. 41. 27. 22. 19. 13. 21. 22. 26. 17. 26. 20. 12. 16. 23. 20. 23.\n",
            " 18. 18. 27. 26.]\n"
          ],
          "name": "stdout"
        }
      ]
    },
    {
      "cell_type": "code",
      "metadata": {
        "id": "a6bvq3JVQdm7",
        "colab_type": "code",
        "colab": {
          "base_uri": "https://localhost:8080/",
          "height": 357
        },
        "outputId": "339dd265-4a01-457a-c1df-114a89a30934"
      },
      "source": [
        "pold = perm[0:int(len(perm)/2)]\n",
        "pnew = perm[int(len(perm)/2):]\n",
        "print(pold)\n",
        "print(pnew)"
      ],
      "execution_count": 97,
      "outputs": [
        {
          "output_type": "stream",
          "text": [
            "[15. 36. 25. 34. 19. 35. 34. 27. 32. 33. 24. 18. 20. 19. 45. 28. 21. 17.\n",
            " 13. 22. 35. 14. 13. 16. 20. 20. 36. 19. 14. 27. 22. 36. 18. 18. 12. 14.\n",
            " 35. 26. 12. 28. 24. 15. 24. 28. 20. 13. 14. 22. 27. 28. 19. 27. 11. 16.\n",
            " 13. 26. 24. 31. 23. 30. 23. 23. 31. 27. 18. 20. 26. 15. 28. 21. 12. 25.\n",
            " 18. 21. 23. 14. 19. 30. 21. 26. 15. 18. 19. 26. 28. 21. 15. 25. 18. 13.\n",
            " 16. 21. 24. 39. 38. 32. 32. 13. 16. 13. 26. 29. 19. 16. 15. 24. 29.  9.\n",
            " 18. 15. 36. 17. 16. 24. 31. 13. 18. 20. 18. 12. 21. 22. 16. 15. 37. 24.\n",
            " 37. 14. 19. 27. 17. 26. 17. 13. 25. 18. 15. 20. 18. 24. 17. 34. 21. 37.\n",
            " 25. 21. 19. 14. 32. 13. 25. 38. 27. 15. 11. 33. 34. 27. 34. 15. 23. 10.\n",
            " 22. 21.]\n",
            "[31. 34. 19. 19. 31. 30. 20. 19. 10. 25. 34. 23. 14. 16. 28. 13. 22. 19.\n",
            " 14. 36. 32. 24. 15. 18. 17. 32. 29. 22. 11. 31. 47. 13. 30. 36. 31. 34.\n",
            " 22. 21. 32. 20. 14. 13. 13. 18. 19. 32. 15. 36. 17. 20. 27. 21. 16. 27.\n",
            " 14. 17. 30. 18. 38. 13. 12. 16. 32. 24. 13. 14. 21. 16. 24. 14. 18. 20.\n",
            " 16. 13. 33. 16. 16. 19. 29. 16. 23. 14. 14. 25. 28. 28. 41. 32. 31. 17.\n",
            " 18. 32. 16. 18. 24. 15. 15. 28. 30. 23. 19. 27. 27. 21. 37. 18. 22. 33.\n",
            " 31. 14. 32. 39. 26. 19. 22. 25. 27. 16. 34. 32. 18. 11. 18. 28. 20. 38.\n",
            " 26. 18. 34. 15. 14. 18. 14. 25. 14. 26. 20. 22. 19. 35. 24. 12. 18. 32.\n",
            " 16. 38. 19. 24. 18. 33. 34. 39. 30. 13. 19. 23. 13. 27. 38. 15. 18. 22.\n",
            " 13. 18.]\n"
          ],
          "name": "stdout"
        }
      ]
    },
    {
      "cell_type": "code",
      "metadata": {
        "id": "jNlhJCbyRWln",
        "colab_type": "code",
        "colab": {
          "base_uri": "https://localhost:8080/",
          "height": 68
        },
        "outputId": "7f327dc8-0297-498d-cfb0-fd26c7a111d4"
      },
      "source": [
        "print(np.mean(pnew))\n",
        "print(np.mean(pold))\n",
        "tperm = np.mean(pnew) - np.mean(pold)\n",
        "print(tperm)"
      ],
      "execution_count": 98,
      "outputs": [
        {
          "output_type": "stream",
          "text": [
            "22.902439024390244\n",
            "22.365853658536587\n",
            "0.5365853658536572\n"
          ],
          "name": "stdout"
        }
      ]
    },
    {
      "cell_type": "code",
      "metadata": {
        "id": "qmE7E0-aRuXn",
        "colab_type": "code",
        "colab": {}
      },
      "source": [
        "counter = 0\n",
        "if tperm > tobs:\n",
        "  counter +=1\n"
      ],
      "execution_count": 0,
      "outputs": []
    },
    {
      "cell_type": "code",
      "metadata": {
        "id": "z3ubp3G3SMd_",
        "colab_type": "code",
        "colab": {}
      },
      "source": [
        "def permutation_test(set_a,set_b,no_perm):\n",
        "  concatenate = np.concatenate((set_a,set_b))\n",
        "  for x in range(no_perm):\n",
        "    perm = np.random.permutation(concatenate)\n",
        "    pold = perm[0:int(len(perm)/2)]\n",
        "    pnew = perm[int(len(perm)/2):]\n",
        "    tperm = np.mean(pnew) - np.mean(pold)\n",
        "    counter = 0\n",
        "    if tperm > tobs:\n",
        "      counter +=1\n",
        "  print(counter)\n",
        "  pvalue = counter/no_perm\n",
        "  print(pvalue)\n",
        "  return pvalue"
      ],
      "execution_count": 0,
      "outputs": []
    },
    {
      "cell_type": "code",
      "metadata": {
        "id": "T9gxK4VKW81c",
        "colab_type": "code",
        "colab": {
          "base_uri": "https://localhost:8080/",
          "height": 68
        },
        "outputId": "a70e37e7-6ac8-4b72-9c32-a5a314c62fb0"
      },
      "source": [
        "pvalue_test=permutation_test([0, 1, 1, 1, 0, 1, 1, 0, 0, 1, 0],[0, 1, 1, 0, 1, 1, 0, 1, 1, 1, 0,\n",
        "0, 1, 1, 1, 1, 1, 1, 1],20000)\n",
        "print(pvalue_test)"
      ],
      "execution_count": 105,
      "outputs": [
        {
          "output_type": "stream",
          "text": [
            "0\n",
            "0.0\n",
            "0.0\n"
          ],
          "name": "stdout"
        }
      ]
    },
    {
      "cell_type": "code",
      "metadata": {
        "id": "R8SaRRnEUUOj",
        "colab_type": "code",
        "colab": {}
      },
      "source": [
        "#Can reject the null hypothesis?"
      ],
      "execution_count": 0,
      "outputs": []
    }
  ]
}